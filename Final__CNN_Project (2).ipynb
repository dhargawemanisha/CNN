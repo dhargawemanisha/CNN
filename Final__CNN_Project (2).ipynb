{
  "nbformat": 4,
  "nbformat_minor": 0,
  "metadata": {
    "colab": {
      "provenance": []
    },
    "kernelspec": {
      "name": "python3",
      "display_name": "Python 3"
    },
    "language_info": {
      "name": "python"
    },
    "widgets": {
      "application/vnd.jupyter.widget-state+json": {
        "76d42c4df69342fa802564c7f5c4953f": {
          "model_module": "@jupyter-widgets/controls",
          "model_name": "HBoxModel",
          "model_module_version": "1.5.0",
          "state": {
            "_dom_classes": [],
            "_model_module": "@jupyter-widgets/controls",
            "_model_module_version": "1.5.0",
            "_model_name": "HBoxModel",
            "_view_count": null,
            "_view_module": "@jupyter-widgets/controls",
            "_view_module_version": "1.5.0",
            "_view_name": "HBoxView",
            "box_style": "",
            "children": [
              "IPY_MODEL_4a45f1c7f1924ef18fd64584823ea063",
              "IPY_MODEL_4967bf0bdc3f402aade9b973080b7153",
              "IPY_MODEL_378115a28387430c9e7ad4f025ff56ac"
            ],
            "layout": "IPY_MODEL_ff5b929fc61641e284d4c84752ed97d7"
          }
        },
        "4a45f1c7f1924ef18fd64584823ea063": {
          "model_module": "@jupyter-widgets/controls",
          "model_name": "HTMLModel",
          "model_module_version": "1.5.0",
          "state": {
            "_dom_classes": [],
            "_model_module": "@jupyter-widgets/controls",
            "_model_module_version": "1.5.0",
            "_model_name": "HTMLModel",
            "_view_count": null,
            "_view_module": "@jupyter-widgets/controls",
            "_view_module_version": "1.5.0",
            "_view_name": "HTMLView",
            "description": "",
            "description_tooltip": null,
            "layout": "IPY_MODEL_4ab5fa06269343298170012fbb051108",
            "placeholder": "​",
            "style": "IPY_MODEL_3805d0d0c0b24160909436e25d01ee40",
            "value": "100%"
          }
        },
        "4967bf0bdc3f402aade9b973080b7153": {
          "model_module": "@jupyter-widgets/controls",
          "model_name": "FloatProgressModel",
          "model_module_version": "1.5.0",
          "state": {
            "_dom_classes": [],
            "_model_module": "@jupyter-widgets/controls",
            "_model_module_version": "1.5.0",
            "_model_name": "FloatProgressModel",
            "_view_count": null,
            "_view_module": "@jupyter-widgets/controls",
            "_view_module_version": "1.5.0",
            "_view_name": "ProgressView",
            "bar_style": "success",
            "description": "",
            "description_tooltip": null,
            "layout": "IPY_MODEL_c5fd3da8eba2439d84f499d8d956ba09",
            "max": 1326,
            "min": 0,
            "orientation": "horizontal",
            "style": "IPY_MODEL_5963c59a56544549ac23e0d27757a9cc",
            "value": 1326
          }
        },
        "378115a28387430c9e7ad4f025ff56ac": {
          "model_module": "@jupyter-widgets/controls",
          "model_name": "HTMLModel",
          "model_module_version": "1.5.0",
          "state": {
            "_dom_classes": [],
            "_model_module": "@jupyter-widgets/controls",
            "_model_module_version": "1.5.0",
            "_model_name": "HTMLModel",
            "_view_count": null,
            "_view_module": "@jupyter-widgets/controls",
            "_view_module_version": "1.5.0",
            "_view_name": "HTMLView",
            "description": "",
            "description_tooltip": null,
            "layout": "IPY_MODEL_a5167cc4d9654e81b26ee7500acb7bdc",
            "placeholder": "​",
            "style": "IPY_MODEL_558340aee6ff494c8a089af99702490d",
            "value": " 1326/1326 [04:23&lt;00:00,  5.27it/s]"
          }
        },
        "ff5b929fc61641e284d4c84752ed97d7": {
          "model_module": "@jupyter-widgets/base",
          "model_name": "LayoutModel",
          "model_module_version": "1.2.0",
          "state": {
            "_model_module": "@jupyter-widgets/base",
            "_model_module_version": "1.2.0",
            "_model_name": "LayoutModel",
            "_view_count": null,
            "_view_module": "@jupyter-widgets/base",
            "_view_module_version": "1.2.0",
            "_view_name": "LayoutView",
            "align_content": null,
            "align_items": null,
            "align_self": null,
            "border": null,
            "bottom": null,
            "display": null,
            "flex": null,
            "flex_flow": null,
            "grid_area": null,
            "grid_auto_columns": null,
            "grid_auto_flow": null,
            "grid_auto_rows": null,
            "grid_column": null,
            "grid_gap": null,
            "grid_row": null,
            "grid_template_areas": null,
            "grid_template_columns": null,
            "grid_template_rows": null,
            "height": null,
            "justify_content": null,
            "justify_items": null,
            "left": null,
            "margin": null,
            "max_height": null,
            "max_width": null,
            "min_height": null,
            "min_width": null,
            "object_fit": null,
            "object_position": null,
            "order": null,
            "overflow": null,
            "overflow_x": null,
            "overflow_y": null,
            "padding": null,
            "right": null,
            "top": null,
            "visibility": null,
            "width": null
          }
        },
        "4ab5fa06269343298170012fbb051108": {
          "model_module": "@jupyter-widgets/base",
          "model_name": "LayoutModel",
          "model_module_version": "1.2.0",
          "state": {
            "_model_module": "@jupyter-widgets/base",
            "_model_module_version": "1.2.0",
            "_model_name": "LayoutModel",
            "_view_count": null,
            "_view_module": "@jupyter-widgets/base",
            "_view_module_version": "1.2.0",
            "_view_name": "LayoutView",
            "align_content": null,
            "align_items": null,
            "align_self": null,
            "border": null,
            "bottom": null,
            "display": null,
            "flex": null,
            "flex_flow": null,
            "grid_area": null,
            "grid_auto_columns": null,
            "grid_auto_flow": null,
            "grid_auto_rows": null,
            "grid_column": null,
            "grid_gap": null,
            "grid_row": null,
            "grid_template_areas": null,
            "grid_template_columns": null,
            "grid_template_rows": null,
            "height": null,
            "justify_content": null,
            "justify_items": null,
            "left": null,
            "margin": null,
            "max_height": null,
            "max_width": null,
            "min_height": null,
            "min_width": null,
            "object_fit": null,
            "object_position": null,
            "order": null,
            "overflow": null,
            "overflow_x": null,
            "overflow_y": null,
            "padding": null,
            "right": null,
            "top": null,
            "visibility": null,
            "width": null
          }
        },
        "3805d0d0c0b24160909436e25d01ee40": {
          "model_module": "@jupyter-widgets/controls",
          "model_name": "DescriptionStyleModel",
          "model_module_version": "1.5.0",
          "state": {
            "_model_module": "@jupyter-widgets/controls",
            "_model_module_version": "1.5.0",
            "_model_name": "DescriptionStyleModel",
            "_view_count": null,
            "_view_module": "@jupyter-widgets/base",
            "_view_module_version": "1.2.0",
            "_view_name": "StyleView",
            "description_width": ""
          }
        },
        "c5fd3da8eba2439d84f499d8d956ba09": {
          "model_module": "@jupyter-widgets/base",
          "model_name": "LayoutModel",
          "model_module_version": "1.2.0",
          "state": {
            "_model_module": "@jupyter-widgets/base",
            "_model_module_version": "1.2.0",
            "_model_name": "LayoutModel",
            "_view_count": null,
            "_view_module": "@jupyter-widgets/base",
            "_view_module_version": "1.2.0",
            "_view_name": "LayoutView",
            "align_content": null,
            "align_items": null,
            "align_self": null,
            "border": null,
            "bottom": null,
            "display": null,
            "flex": null,
            "flex_flow": null,
            "grid_area": null,
            "grid_auto_columns": null,
            "grid_auto_flow": null,
            "grid_auto_rows": null,
            "grid_column": null,
            "grid_gap": null,
            "grid_row": null,
            "grid_template_areas": null,
            "grid_template_columns": null,
            "grid_template_rows": null,
            "height": null,
            "justify_content": null,
            "justify_items": null,
            "left": null,
            "margin": null,
            "max_height": null,
            "max_width": null,
            "min_height": null,
            "min_width": null,
            "object_fit": null,
            "object_position": null,
            "order": null,
            "overflow": null,
            "overflow_x": null,
            "overflow_y": null,
            "padding": null,
            "right": null,
            "top": null,
            "visibility": null,
            "width": null
          }
        },
        "5963c59a56544549ac23e0d27757a9cc": {
          "model_module": "@jupyter-widgets/controls",
          "model_name": "ProgressStyleModel",
          "model_module_version": "1.5.0",
          "state": {
            "_model_module": "@jupyter-widgets/controls",
            "_model_module_version": "1.5.0",
            "_model_name": "ProgressStyleModel",
            "_view_count": null,
            "_view_module": "@jupyter-widgets/base",
            "_view_module_version": "1.2.0",
            "_view_name": "StyleView",
            "bar_color": null,
            "description_width": ""
          }
        },
        "a5167cc4d9654e81b26ee7500acb7bdc": {
          "model_module": "@jupyter-widgets/base",
          "model_name": "LayoutModel",
          "model_module_version": "1.2.0",
          "state": {
            "_model_module": "@jupyter-widgets/base",
            "_model_module_version": "1.2.0",
            "_model_name": "LayoutModel",
            "_view_count": null,
            "_view_module": "@jupyter-widgets/base",
            "_view_module_version": "1.2.0",
            "_view_name": "LayoutView",
            "align_content": null,
            "align_items": null,
            "align_self": null,
            "border": null,
            "bottom": null,
            "display": null,
            "flex": null,
            "flex_flow": null,
            "grid_area": null,
            "grid_auto_columns": null,
            "grid_auto_flow": null,
            "grid_auto_rows": null,
            "grid_column": null,
            "grid_gap": null,
            "grid_row": null,
            "grid_template_areas": null,
            "grid_template_columns": null,
            "grid_template_rows": null,
            "height": null,
            "justify_content": null,
            "justify_items": null,
            "left": null,
            "margin": null,
            "max_height": null,
            "max_width": null,
            "min_height": null,
            "min_width": null,
            "object_fit": null,
            "object_position": null,
            "order": null,
            "overflow": null,
            "overflow_x": null,
            "overflow_y": null,
            "padding": null,
            "right": null,
            "top": null,
            "visibility": null,
            "width": null
          }
        },
        "558340aee6ff494c8a089af99702490d": {
          "model_module": "@jupyter-widgets/controls",
          "model_name": "DescriptionStyleModel",
          "model_module_version": "1.5.0",
          "state": {
            "_model_module": "@jupyter-widgets/controls",
            "_model_module_version": "1.5.0",
            "_model_name": "DescriptionStyleModel",
            "_view_count": null,
            "_view_module": "@jupyter-widgets/base",
            "_view_module_version": "1.2.0",
            "_view_name": "StyleView",
            "description_width": ""
          }
        },
        "ca78d0bd1f01487c95396f32386e445e": {
          "model_module": "@jupyter-widgets/controls",
          "model_name": "HBoxModel",
          "model_module_version": "1.5.0",
          "state": {
            "_dom_classes": [],
            "_model_module": "@jupyter-widgets/controls",
            "_model_module_version": "1.5.0",
            "_model_name": "HBoxModel",
            "_view_count": null,
            "_view_module": "@jupyter-widgets/controls",
            "_view_module_version": "1.5.0",
            "_view_name": "HBoxView",
            "box_style": "",
            "children": [
              "IPY_MODEL_87c8513541e7430182a3a17e58b4e768",
              "IPY_MODEL_5fbe98d7ca234e688549b8b4aa9ee56d",
              "IPY_MODEL_4970b5ebca084b248ca1807d905804bc"
            ],
            "layout": "IPY_MODEL_05e6559f41514dc5898283fd2ccc113d"
          }
        },
        "87c8513541e7430182a3a17e58b4e768": {
          "model_module": "@jupyter-widgets/controls",
          "model_name": "HTMLModel",
          "model_module_version": "1.5.0",
          "state": {
            "_dom_classes": [],
            "_model_module": "@jupyter-widgets/controls",
            "_model_module_version": "1.5.0",
            "_model_name": "HTMLModel",
            "_view_count": null,
            "_view_module": "@jupyter-widgets/controls",
            "_view_module_version": "1.5.0",
            "_view_name": "HTMLView",
            "description": "",
            "description_tooltip": null,
            "layout": "IPY_MODEL_6ea6ef14c158467ab2ab7ea3c0ced5db",
            "placeholder": "​",
            "style": "IPY_MODEL_b3f8dd751a9f448f93944ae2566b337c",
            "value": "100%"
          }
        },
        "5fbe98d7ca234e688549b8b4aa9ee56d": {
          "model_module": "@jupyter-widgets/controls",
          "model_name": "FloatProgressModel",
          "model_module_version": "1.5.0",
          "state": {
            "_dom_classes": [],
            "_model_module": "@jupyter-widgets/controls",
            "_model_module_version": "1.5.0",
            "_model_name": "FloatProgressModel",
            "_view_count": null,
            "_view_module": "@jupyter-widgets/controls",
            "_view_module_version": "1.5.0",
            "_view_name": "ProgressView",
            "bar_style": "success",
            "description": "",
            "description_tooltip": null,
            "layout": "IPY_MODEL_37938d04312e43239128856ff00f4ab1",
            "max": 28,
            "min": 0,
            "orientation": "horizontal",
            "style": "IPY_MODEL_b320b8a08f54407f98d12894d82dd88e",
            "value": 28
          }
        },
        "4970b5ebca084b248ca1807d905804bc": {
          "model_module": "@jupyter-widgets/controls",
          "model_name": "HTMLModel",
          "model_module_version": "1.5.0",
          "state": {
            "_dom_classes": [],
            "_model_module": "@jupyter-widgets/controls",
            "_model_module_version": "1.5.0",
            "_model_name": "HTMLModel",
            "_view_count": null,
            "_view_module": "@jupyter-widgets/controls",
            "_view_module_version": "1.5.0",
            "_view_name": "HTMLView",
            "description": "",
            "description_tooltip": null,
            "layout": "IPY_MODEL_cba6560989df4fadaa1987e6a27e5813",
            "placeholder": "​",
            "style": "IPY_MODEL_e0ea02e77369446badfbc8b5fe2c16f9",
            "value": " 28/28 [00:02&lt;00:00, 10.89it/s]"
          }
        },
        "05e6559f41514dc5898283fd2ccc113d": {
          "model_module": "@jupyter-widgets/base",
          "model_name": "LayoutModel",
          "model_module_version": "1.2.0",
          "state": {
            "_model_module": "@jupyter-widgets/base",
            "_model_module_version": "1.2.0",
            "_model_name": "LayoutModel",
            "_view_count": null,
            "_view_module": "@jupyter-widgets/base",
            "_view_module_version": "1.2.0",
            "_view_name": "LayoutView",
            "align_content": null,
            "align_items": null,
            "align_self": null,
            "border": null,
            "bottom": null,
            "display": null,
            "flex": null,
            "flex_flow": null,
            "grid_area": null,
            "grid_auto_columns": null,
            "grid_auto_flow": null,
            "grid_auto_rows": null,
            "grid_column": null,
            "grid_gap": null,
            "grid_row": null,
            "grid_template_areas": null,
            "grid_template_columns": null,
            "grid_template_rows": null,
            "height": null,
            "justify_content": null,
            "justify_items": null,
            "left": null,
            "margin": null,
            "max_height": null,
            "max_width": null,
            "min_height": null,
            "min_width": null,
            "object_fit": null,
            "object_position": null,
            "order": null,
            "overflow": null,
            "overflow_x": null,
            "overflow_y": null,
            "padding": null,
            "right": null,
            "top": null,
            "visibility": null,
            "width": null
          }
        },
        "6ea6ef14c158467ab2ab7ea3c0ced5db": {
          "model_module": "@jupyter-widgets/base",
          "model_name": "LayoutModel",
          "model_module_version": "1.2.0",
          "state": {
            "_model_module": "@jupyter-widgets/base",
            "_model_module_version": "1.2.0",
            "_model_name": "LayoutModel",
            "_view_count": null,
            "_view_module": "@jupyter-widgets/base",
            "_view_module_version": "1.2.0",
            "_view_name": "LayoutView",
            "align_content": null,
            "align_items": null,
            "align_self": null,
            "border": null,
            "bottom": null,
            "display": null,
            "flex": null,
            "flex_flow": null,
            "grid_area": null,
            "grid_auto_columns": null,
            "grid_auto_flow": null,
            "grid_auto_rows": null,
            "grid_column": null,
            "grid_gap": null,
            "grid_row": null,
            "grid_template_areas": null,
            "grid_template_columns": null,
            "grid_template_rows": null,
            "height": null,
            "justify_content": null,
            "justify_items": null,
            "left": null,
            "margin": null,
            "max_height": null,
            "max_width": null,
            "min_height": null,
            "min_width": null,
            "object_fit": null,
            "object_position": null,
            "order": null,
            "overflow": null,
            "overflow_x": null,
            "overflow_y": null,
            "padding": null,
            "right": null,
            "top": null,
            "visibility": null,
            "width": null
          }
        },
        "b3f8dd751a9f448f93944ae2566b337c": {
          "model_module": "@jupyter-widgets/controls",
          "model_name": "DescriptionStyleModel",
          "model_module_version": "1.5.0",
          "state": {
            "_model_module": "@jupyter-widgets/controls",
            "_model_module_version": "1.5.0",
            "_model_name": "DescriptionStyleModel",
            "_view_count": null,
            "_view_module": "@jupyter-widgets/base",
            "_view_module_version": "1.2.0",
            "_view_name": "StyleView",
            "description_width": ""
          }
        },
        "37938d04312e43239128856ff00f4ab1": {
          "model_module": "@jupyter-widgets/base",
          "model_name": "LayoutModel",
          "model_module_version": "1.2.0",
          "state": {
            "_model_module": "@jupyter-widgets/base",
            "_model_module_version": "1.2.0",
            "_model_name": "LayoutModel",
            "_view_count": null,
            "_view_module": "@jupyter-widgets/base",
            "_view_module_version": "1.2.0",
            "_view_name": "LayoutView",
            "align_content": null,
            "align_items": null,
            "align_self": null,
            "border": null,
            "bottom": null,
            "display": null,
            "flex": null,
            "flex_flow": null,
            "grid_area": null,
            "grid_auto_columns": null,
            "grid_auto_flow": null,
            "grid_auto_rows": null,
            "grid_column": null,
            "grid_gap": null,
            "grid_row": null,
            "grid_template_areas": null,
            "grid_template_columns": null,
            "grid_template_rows": null,
            "height": null,
            "justify_content": null,
            "justify_items": null,
            "left": null,
            "margin": null,
            "max_height": null,
            "max_width": null,
            "min_height": null,
            "min_width": null,
            "object_fit": null,
            "object_position": null,
            "order": null,
            "overflow": null,
            "overflow_x": null,
            "overflow_y": null,
            "padding": null,
            "right": null,
            "top": null,
            "visibility": null,
            "width": null
          }
        },
        "b320b8a08f54407f98d12894d82dd88e": {
          "model_module": "@jupyter-widgets/controls",
          "model_name": "ProgressStyleModel",
          "model_module_version": "1.5.0",
          "state": {
            "_model_module": "@jupyter-widgets/controls",
            "_model_module_version": "1.5.0",
            "_model_name": "ProgressStyleModel",
            "_view_count": null,
            "_view_module": "@jupyter-widgets/base",
            "_view_module_version": "1.2.0",
            "_view_name": "StyleView",
            "bar_color": null,
            "description_width": ""
          }
        },
        "cba6560989df4fadaa1987e6a27e5813": {
          "model_module": "@jupyter-widgets/base",
          "model_name": "LayoutModel",
          "model_module_version": "1.2.0",
          "state": {
            "_model_module": "@jupyter-widgets/base",
            "_model_module_version": "1.2.0",
            "_model_name": "LayoutModel",
            "_view_count": null,
            "_view_module": "@jupyter-widgets/base",
            "_view_module_version": "1.2.0",
            "_view_name": "LayoutView",
            "align_content": null,
            "align_items": null,
            "align_self": null,
            "border": null,
            "bottom": null,
            "display": null,
            "flex": null,
            "flex_flow": null,
            "grid_area": null,
            "grid_auto_columns": null,
            "grid_auto_flow": null,
            "grid_auto_rows": null,
            "grid_column": null,
            "grid_gap": null,
            "grid_row": null,
            "grid_template_areas": null,
            "grid_template_columns": null,
            "grid_template_rows": null,
            "height": null,
            "justify_content": null,
            "justify_items": null,
            "left": null,
            "margin": null,
            "max_height": null,
            "max_width": null,
            "min_height": null,
            "min_width": null,
            "object_fit": null,
            "object_position": null,
            "order": null,
            "overflow": null,
            "overflow_x": null,
            "overflow_y": null,
            "padding": null,
            "right": null,
            "top": null,
            "visibility": null,
            "width": null
          }
        },
        "e0ea02e77369446badfbc8b5fe2c16f9": {
          "model_module": "@jupyter-widgets/controls",
          "model_name": "DescriptionStyleModel",
          "model_module_version": "1.5.0",
          "state": {
            "_model_module": "@jupyter-widgets/controls",
            "_model_module_version": "1.5.0",
            "_model_name": "DescriptionStyleModel",
            "_view_count": null,
            "_view_module": "@jupyter-widgets/base",
            "_view_module_version": "1.2.0",
            "_view_name": "StyleView",
            "description_width": ""
          }
        }
      }
    }
  },
  "cells": [
    {
      "cell_type": "code",
      "execution_count": null,
      "metadata": {
        "colab": {
          "base_uri": "https://localhost:8080/"
        },
        "id": "JMEDD8ZQ0HcW",
        "outputId": "7b70ccfb-6ef2-425a-a273-5d0fa8cf0e43"
      },
      "outputs": [
        {
          "output_type": "stream",
          "name": "stdout",
          "text": [
            "Mounted at /content/drive\n"
          ]
        }
      ],
      "source": [
        "from google.colab import drive\n",
        "drive.mount('/content/drive')"
      ]
    },
    {
      "cell_type": "code",
      "source": [
        "! pip install tensorflow"
      ],
      "metadata": {
        "colab": {
          "base_uri": "https://localhost:8080/"
        },
        "id": "zGIZnDKR0cUZ",
        "outputId": "96bfa81c-c71a-4f57-f8d2-854ef54b725a"
      },
      "execution_count": null,
      "outputs": [
        {
          "output_type": "stream",
          "name": "stdout",
          "text": [
            "Looking in indexes: https://pypi.org/simple, https://us-python.pkg.dev/colab-wheels/public/simple/\n",
            "Requirement already satisfied: tensorflow in /usr/local/lib/python3.10/dist-packages (2.12.0)\n",
            "Requirement already satisfied: absl-py>=1.0.0 in /usr/local/lib/python3.10/dist-packages (from tensorflow) (1.4.0)\n",
            "Requirement already satisfied: astunparse>=1.6.0 in /usr/local/lib/python3.10/dist-packages (from tensorflow) (1.6.3)\n",
            "Requirement already satisfied: flatbuffers>=2.0 in /usr/local/lib/python3.10/dist-packages (from tensorflow) (23.3.3)\n",
            "Requirement already satisfied: gast<=0.4.0,>=0.2.1 in /usr/local/lib/python3.10/dist-packages (from tensorflow) (0.4.0)\n",
            "Requirement already satisfied: google-pasta>=0.1.1 in /usr/local/lib/python3.10/dist-packages (from tensorflow) (0.2.0)\n",
            "Requirement already satisfied: grpcio<2.0,>=1.24.3 in /usr/local/lib/python3.10/dist-packages (from tensorflow) (1.54.0)\n",
            "Requirement already satisfied: h5py>=2.9.0 in /usr/local/lib/python3.10/dist-packages (from tensorflow) (3.8.0)\n",
            "Requirement already satisfied: jax>=0.3.15 in /usr/local/lib/python3.10/dist-packages (from tensorflow) (0.4.10)\n",
            "Requirement already satisfied: keras<2.13,>=2.12.0 in /usr/local/lib/python3.10/dist-packages (from tensorflow) (2.12.0)\n",
            "Requirement already satisfied: libclang>=13.0.0 in /usr/local/lib/python3.10/dist-packages (from tensorflow) (16.0.0)\n",
            "Requirement already satisfied: numpy<1.24,>=1.22 in /usr/local/lib/python3.10/dist-packages (from tensorflow) (1.22.4)\n",
            "Requirement already satisfied: opt-einsum>=2.3.2 in /usr/local/lib/python3.10/dist-packages (from tensorflow) (3.3.0)\n",
            "Requirement already satisfied: packaging in /usr/local/lib/python3.10/dist-packages (from tensorflow) (23.1)\n",
            "Requirement already satisfied: protobuf!=4.21.0,!=4.21.1,!=4.21.2,!=4.21.3,!=4.21.4,!=4.21.5,<5.0.0dev,>=3.20.3 in /usr/local/lib/python3.10/dist-packages (from tensorflow) (3.20.3)\n",
            "Requirement already satisfied: setuptools in /usr/local/lib/python3.10/dist-packages (from tensorflow) (67.7.2)\n",
            "Requirement already satisfied: six>=1.12.0 in /usr/local/lib/python3.10/dist-packages (from tensorflow) (1.16.0)\n",
            "Requirement already satisfied: tensorboard<2.13,>=2.12 in /usr/local/lib/python3.10/dist-packages (from tensorflow) (2.12.2)\n",
            "Requirement already satisfied: tensorflow-estimator<2.13,>=2.12.0 in /usr/local/lib/python3.10/dist-packages (from tensorflow) (2.12.0)\n",
            "Requirement already satisfied: termcolor>=1.1.0 in /usr/local/lib/python3.10/dist-packages (from tensorflow) (2.3.0)\n",
            "Requirement already satisfied: typing-extensions>=3.6.6 in /usr/local/lib/python3.10/dist-packages (from tensorflow) (4.5.0)\n",
            "Requirement already satisfied: wrapt<1.15,>=1.11.0 in /usr/local/lib/python3.10/dist-packages (from tensorflow) (1.14.1)\n",
            "Requirement already satisfied: tensorflow-io-gcs-filesystem>=0.23.1 in /usr/local/lib/python3.10/dist-packages (from tensorflow) (0.32.0)\n",
            "Requirement already satisfied: wheel<1.0,>=0.23.0 in /usr/local/lib/python3.10/dist-packages (from astunparse>=1.6.0->tensorflow) (0.40.0)\n",
            "Requirement already satisfied: ml-dtypes>=0.1.0 in /usr/local/lib/python3.10/dist-packages (from jax>=0.3.15->tensorflow) (0.1.0)\n",
            "Requirement already satisfied: scipy>=1.7 in /usr/local/lib/python3.10/dist-packages (from jax>=0.3.15->tensorflow) (1.10.1)\n",
            "Requirement already satisfied: google-auth<3,>=1.6.3 in /usr/local/lib/python3.10/dist-packages (from tensorboard<2.13,>=2.12->tensorflow) (2.17.3)\n",
            "Requirement already satisfied: google-auth-oauthlib<1.1,>=0.5 in /usr/local/lib/python3.10/dist-packages (from tensorboard<2.13,>=2.12->tensorflow) (1.0.0)\n",
            "Requirement already satisfied: markdown>=2.6.8 in /usr/local/lib/python3.10/dist-packages (from tensorboard<2.13,>=2.12->tensorflow) (3.4.3)\n",
            "Requirement already satisfied: requests<3,>=2.21.0 in /usr/local/lib/python3.10/dist-packages (from tensorboard<2.13,>=2.12->tensorflow) (2.27.1)\n",
            "Requirement already satisfied: tensorboard-data-server<0.8.0,>=0.7.0 in /usr/local/lib/python3.10/dist-packages (from tensorboard<2.13,>=2.12->tensorflow) (0.7.0)\n",
            "Requirement already satisfied: tensorboard-plugin-wit>=1.6.0 in /usr/local/lib/python3.10/dist-packages (from tensorboard<2.13,>=2.12->tensorflow) (1.8.1)\n",
            "Requirement already satisfied: werkzeug>=1.0.1 in /usr/local/lib/python3.10/dist-packages (from tensorboard<2.13,>=2.12->tensorflow) (2.3.0)\n",
            "Requirement already satisfied: cachetools<6.0,>=2.0.0 in /usr/local/lib/python3.10/dist-packages (from google-auth<3,>=1.6.3->tensorboard<2.13,>=2.12->tensorflow) (5.3.0)\n",
            "Requirement already satisfied: pyasn1-modules>=0.2.1 in /usr/local/lib/python3.10/dist-packages (from google-auth<3,>=1.6.3->tensorboard<2.13,>=2.12->tensorflow) (0.3.0)\n",
            "Requirement already satisfied: rsa<5,>=3.1.4 in /usr/local/lib/python3.10/dist-packages (from google-auth<3,>=1.6.3->tensorboard<2.13,>=2.12->tensorflow) (4.9)\n",
            "Requirement already satisfied: requests-oauthlib>=0.7.0 in /usr/local/lib/python3.10/dist-packages (from google-auth-oauthlib<1.1,>=0.5->tensorboard<2.13,>=2.12->tensorflow) (1.3.1)\n",
            "Requirement already satisfied: urllib3<1.27,>=1.21.1 in /usr/local/lib/python3.10/dist-packages (from requests<3,>=2.21.0->tensorboard<2.13,>=2.12->tensorflow) (1.26.15)\n",
            "Requirement already satisfied: certifi>=2017.4.17 in /usr/local/lib/python3.10/dist-packages (from requests<3,>=2.21.0->tensorboard<2.13,>=2.12->tensorflow) (2022.12.7)\n",
            "Requirement already satisfied: charset-normalizer~=2.0.0 in /usr/local/lib/python3.10/dist-packages (from requests<3,>=2.21.0->tensorboard<2.13,>=2.12->tensorflow) (2.0.12)\n",
            "Requirement already satisfied: idna<4,>=2.5 in /usr/local/lib/python3.10/dist-packages (from requests<3,>=2.21.0->tensorboard<2.13,>=2.12->tensorflow) (3.4)\n",
            "Requirement already satisfied: MarkupSafe>=2.1.1 in /usr/local/lib/python3.10/dist-packages (from werkzeug>=1.0.1->tensorboard<2.13,>=2.12->tensorflow) (2.1.2)\n",
            "Requirement already satisfied: pyasn1<0.6.0,>=0.4.6 in /usr/local/lib/python3.10/dist-packages (from pyasn1-modules>=0.2.1->google-auth<3,>=1.6.3->tensorboard<2.13,>=2.12->tensorflow) (0.5.0)\n",
            "Requirement already satisfied: oauthlib>=3.0.0 in /usr/local/lib/python3.10/dist-packages (from requests-oauthlib>=0.7.0->google-auth-oauthlib<1.1,>=0.5->tensorboard<2.13,>=2.12->tensorflow) (3.2.2)\n"
          ]
        }
      ]
    },
    {
      "cell_type": "code",
      "source": [
        "## Import neccessary packages\n",
        "import os\n",
        "import cv2\n",
        "import random\n",
        "import warnings\n",
        "import argparse\n",
        "import itertools\n",
        "import numpy as np\n",
        "from imutils import paths\n",
        "import matplotlib.pyplot as plt\n",
        "warnings.filterwarnings(\"ignore\")\n",
        "from tqdm import tqdm_notebook as tqdm\n",
        "\n",
        "# import the tensorflow.keras packages\n",
        "from tensorflow.keras.layers import Dense\n",
        "from tensorflow.keras import backend as K\n",
        "from tensorflow.keras.layers import Conv2D\n",
        "from tensorflow.keras.layers import Flatten\n",
        "from tensorflow.keras.optimizers import Adam\n",
        "from tensorflow.keras.models import Sequential\n",
        "from tensorflow.keras.layers import Activation\n",
        "from tensorflow.keras.layers import MaxPooling2D\n",
        "from tensorflow.keras.utils import to_categorical\n",
        "from sklearn.model_selection import train_test_split\n",
        "from tensorflow.keras.preprocessing.image import img_to_array\n",
        "from tensorflow.keras.preprocessing.image import ImageDataGenerator\n",
        "\n",
        "SEED = 50"
      ],
      "metadata": {
        "id": "v7n3ejs61Fik"
      },
      "execution_count": null,
      "outputs": []
    },
    {
      "cell_type": "code",
      "source": [
        "# create CNN Model\n",
        "\n",
        "class LeNet:\n",
        "    @staticmethod\n",
        "    def build(width, height, depth, classes):\n",
        "        # initialize the model\n",
        "        model = Sequential()                ## siamese networks\n",
        "        inputShape = (height, width, depth)\n",
        "\n",
        "        # if we are using \"channels first\", update the input shape\n",
        "        print(K.image_data_format())\n",
        "        if K.image_data_format() == \"channels_first\":\n",
        "            inputShape = (depth, height, width)\n",
        "\n",
        "        # first set of CONV => RELU => POOL layers\n",
        "        model.add(Conv2D(20, (5, 5), padding=\"same\",input_shape=inputShape))\n",
        "        model.add(Activation(\"relu\"))\n",
        "        model.add(MaxPooling2D(pool_size=(2, 2), strides=(2, 2)))\n",
        "\n",
        "        # second set of CONV => RELU => POOL layers\n",
        "        model.add(Conv2D(50, (5, 5), padding=\"same\"))\n",
        "        model.add(Activation(\"relu\"))\n",
        "        model.add(MaxPooling2D(pool_size=(2, 2), strides=(2, 2)))\n",
        "\n",
        "        # first (and only) set of FC => RELU layers\n",
        "        model.add(Flatten())\n",
        "        model.add(Dense(500))\n",
        "        model.add(Activation(\"relu\"))\n",
        "\n",
        "        # softmax classifier\n",
        "        model.add(Dense(classes))\n",
        "        model.add(Activation(\"softmax\"))\n",
        "\n",
        "        # return the constructed network architecture\n",
        "        return model"
      ],
      "metadata": {
        "id": "pmTI3u9x1MRy"
      },
      "execution_count": null,
      "outputs": []
    },
    {
      "cell_type": "code",
      "source": [
        "dataset=\"/content/drive/MyDrive/CNN/Dataset/CNN_Train\"\n",
        "model= \"/content/drive/MyDrive/CNN/Dataset/Scene.model\"\n",
        "plot=\" plot.png\""
      ],
      "metadata": {
        "id": "jmqNjR341YwC"
      },
      "execution_count": null,
      "outputs": []
    },
    {
      "cell_type": "code",
      "source": [
        "imagePaths = sorted(list(paths.list_images(dataset)))\n",
        "random.seed(SEED)\n",
        "random.shuffle(imagePaths)\n",
        "imagePaths[:5]"
      ],
      "metadata": {
        "colab": {
          "base_uri": "https://localhost:8080/"
        },
        "id": "hLnVzpr52Opc",
        "outputId": "cd87fc3e-0af1-4a5c-b1cb-c6038da533fc"
      },
      "execution_count": null,
      "outputs": [
        {
          "output_type": "execute_result",
          "data": {
            "text/plain": [
              "['/content/drive/MyDrive/CNN/Dataset/CNN_Train/Sea/3840.jpg',\n",
              " '/content/drive/MyDrive/CNN/Dataset/CNN_Train/Forest/1369.jpg',\n",
              " '/content/drive/MyDrive/CNN/Dataset/CNN_Train/Sea/3691.jpg',\n",
              " '/content/drive/MyDrive/CNN/Dataset/CNN_Train/Buildings/1891.jpg',\n",
              " '/content/drive/MyDrive/CNN/Dataset/CNN_Train/Sea/1741.jpg']"
            ]
          },
          "metadata": {},
          "execution_count": 7
        }
      ]
    },
    {
      "cell_type": "code",
      "source": [
        "image=cv2.imread(imagePaths[5])\n",
        "print(\"Shape of one image=>\",image.shape)\n",
        "\n",
        "##Resize it => deep learning models train faster on small images\n",
        "image = cv2.resize(image, (28, 28))\n",
        "print(\"Resize Shape of one image=>\",image.shape)\n",
        "print(\"Type\",type(image))\n",
        "\n",
        "##convert it to array\n",
        "image = img_to_array(image)\n",
        "print(\"Type\",type(image))"
      ],
      "metadata": {
        "colab": {
          "base_uri": "https://localhost:8080/"
        },
        "id": "v5we3BZ83f4w",
        "outputId": "d4e221f6-fe67-4afa-9f28-414c14120907"
      },
      "execution_count": null,
      "outputs": [
        {
          "output_type": "stream",
          "name": "stdout",
          "text": [
            "Shape of one image=> (150, 150, 3)\n",
            "Resize Shape of one image=> (28, 28, 3)\n",
            "Type <class 'numpy.ndarray'>\n",
            "Type <class 'numpy.ndarray'>\n"
          ]
        }
      ]
    },
    {
      "cell_type": "code",
      "source": [
        "from google.colab.patches import cv2_imshow\n",
        "image=cv2.imread(imagePaths[5])\n",
        "cv2_imshow(image)\n",
        "image = cv2.resize(image,(100,100))\n",
        "cv2_imshow(image)"
      ],
      "metadata": {
        "colab": {
          "base_uri": "https://localhost:8080/",
          "height": 267
        },
        "id": "xPZqFwTm3ouV",
        "outputId": "25f606a1-031d-4257-f638-58fadda95f7c"
      },
      "execution_count": null,
      "outputs": [
        {
          "output_type": "display_data",
          "data": {
            "text/plain": [
              "<PIL.Image.Image image mode=RGB size=150x150 at 0x7F557F18B5E0>"
            ],
            "image/png": "[encoded data removed]"
          },
          "metadata": {}
        },
        {
          "output_type": "display_data",
          "data": {
            "text/plain": [
              "<PIL.Image.Image image mode=RGB size=100x100 at 0x7F557E48B2B0>"
            ],
            "image/png": "[encoded data removed]"
          },
          "metadata": {}
        }
      ]
    },
    {
      "cell_type": "code",
      "source": [
        "## Extract The Label From Image Path\n",
        "label = imagePaths[5].split(os.path.sep)[-2]\n",
        "label"
      ],
      "metadata": {
        "colab": {
          "base_uri": "https://localhost:8080/",
          "height": 36
        },
        "id": "8WAAFJgr3tTr",
        "outputId": "7a51e649-965a-48ba-e1c4-6b160455da06"
      },
      "execution_count": null,
      "outputs": [
        {
          "output_type": "execute_result",
          "data": {
            "text/plain": [
              "'Buildings'"
            ],
            "application/vnd.google.colaboratory.intrinsic+json": {
              "type": "string"
            }
          },
          "metadata": {},
          "execution_count": 10
        }
      ]
    },
    {
      "cell_type": "code",
      "source": [
        "# initialize the data and labels\n",
        "print(\"[INFO] loading images...\")\n",
        "data = []\n",
        "labels = []\n",
        "\n",
        "# grab the image paths and randomly shuffle them\n",
        "imagePaths = sorted(list(paths.list_images(dataset)))\n",
        "random.seed(SEED)\n",
        "random.shuffle(imagePaths)\n",
        "\n",
        "# progress bar\n",
        "with tqdm(total=len(imagePaths)) as pbar:\n",
        "    # loop over the input images\n",
        "    for idx, imagePath in enumerate(imagePaths):\n",
        "        # load the image, pre-process it, and store it in the data list\n",
        "        image = cv2.imread(imagePath)\n",
        "        image = cv2.resize(image, (28, 28))\n",
        "        image = img_to_array(image)\n",
        "        data.append(image)\n",
        "\n",
        "        # extract the class label from the image path and update the\n",
        "        # labels list\n",
        "        label = imagePath.split(os.path.sep)[-2]\n",
        "\n",
        "        if label == \"Buildings\":\n",
        "            label = 0\n",
        "        elif label == \"Forest\":\n",
        "            label = 1\n",
        "        elif label == \"Sea\":\n",
        "            label = 2\n",
        "\n",
        "        # print(\"pr: \", label)\n",
        "\n",
        "        labels.append(label)\n",
        "\n",
        "        # update the progressbar\n",
        "        pbar.update(1)"
      ],
      "metadata": {
        "colab": {
          "base_uri": "https://localhost:8080/",
          "height": 66,
          "referenced_widgets": [
            "76d42c4df69342fa802564c7f5c4953f",
            "4a45f1c7f1924ef18fd64584823ea063",
            "4967bf0bdc3f402aade9b973080b7153",
            "378115a28387430c9e7ad4f025ff56ac",
            "ff5b929fc61641e284d4c84752ed97d7",
            "4ab5fa06269343298170012fbb051108",
            "3805d0d0c0b24160909436e25d01ee40",
            "c5fd3da8eba2439d84f499d8d956ba09",
            "5963c59a56544549ac23e0d27757a9cc",
            "a5167cc4d9654e81b26ee7500acb7bdc",
            "558340aee6ff494c8a089af99702490d"
          ]
        },
        "id": "kAfKFg1p3xmX",
        "outputId": "307585d0-3952-400f-fa9c-178515cbaaa1"
      },
      "execution_count": null,
      "outputs": [
        {
          "output_type": "stream",
          "name": "stdout",
          "text": [
            "[INFO] loading images...\n"
          ]
        },
        {
          "output_type": "display_data",
          "data": {
            "text/plain": [
              "  0%|          | 0/1326 [00:00<?, ?it/s]"
            ],
            "application/vnd.jupyter.widget-view+json": {
              "version_major": 2,
              "version_minor": 0,
              "model_id": "76d42c4df69342fa802564c7f5c4953f"
            }
          },
          "metadata": {}
        }
      ]
    },
    {
      "cell_type": "code",
      "source": [
        "#pixel values are integers that range from 0 (black) to 255 (white).\n",
        "data = np.array(data, dtype=\"float\") / 255.0\n",
        "labels = np.array(labels)"
      ],
      "metadata": {
        "id": "eDlkjDsW5lir"
      },
      "execution_count": null,
      "outputs": []
    },
    {
      "cell_type": "code",
      "source": [
        "data.shape"
      ],
      "metadata": {
        "colab": {
          "base_uri": "https://localhost:8080/"
        },
        "id": "MzOPs2095rJg",
        "outputId": "f2c05d06-80fb-45f8-9e65-bfea6ce392fc"
      },
      "execution_count": null,
      "outputs": [
        {
          "output_type": "execute_result",
          "data": {
            "text/plain": [
              "(1326, 28, 28, 3)"
            ]
          },
          "metadata": {},
          "execution_count": 13
        }
      ]
    },
    {
      "cell_type": "code",
      "source": [
        "data[1][27]"
      ],
      "metadata": {
        "colab": {
          "base_uri": "https://localhost:8080/"
        },
        "id": "SGy0eVdy5uIa",
        "outputId": "5048b113-6440-467d-8a84-a2166399416a"
      },
      "execution_count": null,
      "outputs": [
        {
          "output_type": "execute_result",
          "data": {
            "text/plain": [
              "array([[0., 0., 0.],\n",
              "       [0., 0., 0.],\n",
              "       [0., 0., 0.],\n",
              "       [0., 0., 0.],\n",
              "       [0., 0., 0.],\n",
              "       [0., 0., 0.],\n",
              "       [0., 0., 0.],\n",
              "       [0., 0., 0.],\n",
              "       [0., 0., 0.],\n",
              "       [0., 0., 0.],\n",
              "       [0., 0., 0.],\n",
              "       [0., 0., 0.],\n",
              "       [0., 0., 0.],\n",
              "       [0., 0., 0.],\n",
              "       [0., 0., 0.],\n",
              "       [0., 0., 0.],\n",
              "       [0., 0., 0.],\n",
              "       [0., 0., 0.],\n",
              "       [0., 0., 0.],\n",
              "       [0., 0., 0.],\n",
              "       [0., 0., 0.],\n",
              "       [0., 0., 0.],\n",
              "       [0., 0., 0.],\n",
              "       [0., 0., 0.],\n",
              "       [0., 0., 0.],\n",
              "       [0., 0., 0.],\n",
              "       [0., 0., 0.],\n",
              "       [0., 0., 0.]])"
            ]
          },
          "metadata": {},
          "execution_count": 14
        }
      ]
    },
    {
      "cell_type": "code",
      "source": [
        "labels"
      ],
      "metadata": {
        "colab": {
          "base_uri": "https://localhost:8080/"
        },
        "id": "J-wTvYqU50mc",
        "outputId": "4010d30e-25d4-4532-e247-da37321c061a"
      },
      "execution_count": null,
      "outputs": [
        {
          "output_type": "execute_result",
          "data": {
            "text/plain": [
              "array([2, 1, 2, ..., 1, 1, 2])"
            ]
          },
          "metadata": {},
          "execution_count": 15
        }
      ]
    },
    {
      "cell_type": "code",
      "source": [
        "(trainX, testX, trainY, testY) = train_test_split(data, labels, test_size=0.25, random_state=SEED)"
      ],
      "metadata": {
        "id": "NWJdezDM6KnA"
      },
      "execution_count": null,
      "outputs": []
    },
    {
      "cell_type": "code",
      "source": [
        "trainX.shape"
      ],
      "metadata": {
        "colab": {
          "base_uri": "https://localhost:8080/"
        },
        "id": "aPMy2E7P6Qhj",
        "outputId": "b03bad25-e49a-4802-c012-04c6dd94a211"
      },
      "execution_count": null,
      "outputs": [
        {
          "output_type": "execute_result",
          "data": {
            "text/plain": [
              "(994, 28, 28, 3)"
            ]
          },
          "metadata": {},
          "execution_count": 17
        }
      ]
    },
    {
      "cell_type": "code",
      "source": [
        "trainY.shape"
      ],
      "metadata": {
        "colab": {
          "base_uri": "https://localhost:8080/"
        },
        "id": "QJgqpswb6TUT",
        "outputId": "6e7b2355-dce6-474f-fac4-f8cd7d1887f1"
      },
      "execution_count": null,
      "outputs": [
        {
          "output_type": "execute_result",
          "data": {
            "text/plain": [
              "(994,)"
            ]
          },
          "metadata": {},
          "execution_count": 18
        }
      ]
    },
    {
      "cell_type": "code",
      "source": [
        "trainY[1]"
      ],
      "metadata": {
        "colab": {
          "base_uri": "https://localhost:8080/"
        },
        "id": "WQvB7rjK6bix",
        "outputId": "d45764ca-b9f5-4c7a-8ba7-9eb33d4dca06"
      },
      "execution_count": null,
      "outputs": [
        {
          "output_type": "execute_result",
          "data": {
            "text/plain": [
              "0"
            ]
          },
          "metadata": {},
          "execution_count": 19
        }
      ]
    },
    {
      "cell_type": "code",
      "source": [
        "trainY[2]"
      ],
      "metadata": {
        "colab": {
          "base_uri": "https://localhost:8080/"
        },
        "id": "YZbifyHy6eSv",
        "outputId": "ce7c4eac-016e-42a5-eff8-6ffa63907150"
      },
      "execution_count": null,
      "outputs": [
        {
          "output_type": "execute_result",
          "data": {
            "text/plain": [
              "1"
            ]
          },
          "metadata": {},
          "execution_count": 20
        }
      ]
    },
    {
      "cell_type": "code",
      "source": [
        "trainY[4]"
      ],
      "metadata": {
        "colab": {
          "base_uri": "https://localhost:8080/"
        },
        "id": "zIf3jPvc6iH0",
        "outputId": "0fcd8446-0ed1-4a9a-ebee-820d2752a241"
      },
      "execution_count": null,
      "outputs": [
        {
          "output_type": "execute_result",
          "data": {
            "text/plain": [
              "2"
            ]
          },
          "metadata": {},
          "execution_count": 21
        }
      ]
    },
    {
      "cell_type": "code",
      "source": [
        "trainY = to_categorical(trainY, num_classes=3)\n",
        "testY = to_categorical(testY, num_classes=3)"
      ],
      "metadata": {
        "id": "2-MunwxB6kHd"
      },
      "execution_count": null,
      "outputs": []
    },
    {
      "cell_type": "code",
      "source": [
        "trainY[1]"
      ],
      "metadata": {
        "colab": {
          "base_uri": "https://localhost:8080/"
        },
        "id": "7WS_QxR16n1F",
        "outputId": "97d6cc42-8ccb-4f2d-d0fe-0ffc2b8e335e"
      },
      "execution_count": null,
      "outputs": [
        {
          "output_type": "execute_result",
          "data": {
            "text/plain": [
              "array([1., 0., 0.], dtype=float32)"
            ]
          },
          "metadata": {},
          "execution_count": 23
        }
      ]
    },
    {
      "cell_type": "code",
      "source": [
        "trainY[2]"
      ],
      "metadata": {
        "colab": {
          "base_uri": "https://localhost:8080/"
        },
        "id": "vGOpOkZR6q0M",
        "outputId": "d1a14925-5f18-4347-c663-320ed6c7953b"
      },
      "execution_count": null,
      "outputs": [
        {
          "output_type": "execute_result",
          "data": {
            "text/plain": [
              "array([0., 1., 0.], dtype=float32)"
            ]
          },
          "metadata": {},
          "execution_count": 24
        }
      ]
    },
    {
      "cell_type": "code",
      "source": [
        "trainY[4]"
      ],
      "metadata": {
        "colab": {
          "base_uri": "https://localhost:8080/"
        },
        "id": "GaAw5qBA6v-E",
        "outputId": "dc246e0a-8cdb-4eb6-d3e8-271b7d9543cb"
      },
      "execution_count": null,
      "outputs": [
        {
          "output_type": "execute_result",
          "data": {
            "text/plain": [
              "array([0., 0., 1.], dtype=float32)"
            ]
          },
          "metadata": {},
          "execution_count": 25
        }
      ]
    },
    {
      "cell_type": "markdown",
      "source": [
        "Data Preprocessing (Augumentation)\n"
      ],
      "metadata": {
        "id": "zzZdBXgyJSDZ"
      }
    },
    {
      "cell_type": "code",
      "source": [
        "# construct the image generator for data augmentation\n",
        "aug = ImageDataGenerator(rotation_range=30,\n",
        "                         width_shift_range=0.1,\n",
        "                         height_shift_range=0.1,\n",
        "                         shear_range=0.2,\n",
        "                         zoom_range=0.2,\n",
        "                         horizontal_flip=True,\n",
        "                         fill_mode=\"nearest\")"
      ],
      "metadata": {
        "id": "k8OSZ_as6_-r"
      },
      "execution_count": null,
      "outputs": []
    },
    {
      "cell_type": "code",
      "source": [
        "EPOCHS = 200\n",
        "INIT_LR = 1e-3\n",
        "BS = 32"
      ],
      "metadata": {
        "id": "uZVKCvFDLmZs"
      },
      "execution_count": null,
      "outputs": []
    },
    {
      "cell_type": "code",
      "source": [
        "import tensorflow as tf\n",
        "from tensorflow.keras.optimizers import Adam\n",
        "from tensorflow.keras.optimizers import schedules"
      ],
      "metadata": {
        "id": "drqcy9_8O9XY"
      },
      "execution_count": null,
      "outputs": []
    },
    {
      "cell_type": "code",
      "source": [
        "print(\"[INFO] compiling model...\")\n",
        "model = LeNet.build(width=28, height=28, depth=3, classes=3)\n",
        "INIT_LR = 0.001\n",
        "EPOCHS = 100\n",
        "\n",
        "learning_rate = schedules.ExponentialDecay(\n",
        "    initial_learning_rate=INIT_LR,\n",
        "    decay_steps=EPOCHS,\n",
        "    decay_rate=0.95,\n",
        "    staircase=True\n",
        ")\n",
        "\n",
        "opt = Adam(learning_rate=learning_rate)\n",
        "model.compile(loss=\"categorical_crossentropy\", optimizer=opt, metrics=[\"accuracy\"])\n",
        "print(\"[INFO] model compiled...\")"
      ],
      "metadata": {
        "colab": {
          "base_uri": "https://localhost:8080/"
        },
        "id": "enaX2noIPEqV",
        "outputId": "6027e51b-1eda-4332-ab2c-3a226ddb5682"
      },
      "execution_count": null,
      "outputs": [
        {
          "output_type": "stream",
          "name": "stdout",
          "text": [
            "[INFO] compiling model...\n",
            "channels_last\n",
            "[INFO] model compiled...\n"
          ]
        }
      ]
    },
    {
      "cell_type": "code",
      "source": [
        "print(model.summary())"
      ],
      "metadata": {
        "colab": {
          "base_uri": "https://localhost:8080/"
        },
        "id": "eeXepRO6PU2w",
        "outputId": "b2553094-4708-4d4c-fb6c-6a6bc7adb70b"
      },
      "execution_count": null,
      "outputs": [
        {
          "output_type": "stream",
          "name": "stdout",
          "text": [
            "Model: \"sequential_11\"\n",
            "_________________________________________________________________\n",
            " Layer (type)                Output Shape              Param #   \n",
            "=================================================================\n",
            " conv2d_22 (Conv2D)          (None, 28, 28, 20)        1520      \n",
            "                                                                 \n",
            " activation_44 (Activation)  (None, 28, 28, 20)        0         \n",
            "                                                                 \n",
            " max_pooling2d_22 (MaxPoolin  (None, 14, 14, 20)       0         \n",
            " g2D)                                                            \n",
            "                                                                 \n",
            " conv2d_23 (Conv2D)          (None, 14, 14, 50)        25050     \n",
            "                                                                 \n",
            " activation_45 (Activation)  (None, 14, 14, 50)        0         \n",
            "                                                                 \n",
            " max_pooling2d_23 (MaxPoolin  (None, 7, 7, 50)         0         \n",
            " g2D)                                                            \n",
            "                                                                 \n",
            " flatten_11 (Flatten)        (None, 2450)              0         \n",
            "                                                                 \n",
            " dense_22 (Dense)            (None, 500)               1225500   \n",
            "                                                                 \n",
            " activation_46 (Activation)  (None, 500)               0         \n",
            "                                                                 \n",
            " dense_23 (Dense)            (None, 3)                 1503      \n",
            "                                                                 \n",
            " activation_47 (Activation)  (None, 3)                 0         \n",
            "                                                                 \n",
            "=================================================================\n",
            "Total params: 1,253,573\n",
            "Trainable params: 1,253,573\n",
            "Non-trainable params: 0\n",
            "_________________________________________________________________\n",
            "None\n"
          ]
        }
      ]
    },
    {
      "cell_type": "code",
      "source": [
        "# train the network\n",
        "print(\"[INFO] training network...\")\n",
        "H = model.fit(x=aug.flow(trainX, trainY, batch_size=BS),\n",
        "              validation_data=(testX, testY),\n",
        "              steps_per_epoch=len(trainX) // BS,\n",
        "              epochs=EPOCHS,\n",
        "              verbose=1)"
      ],
      "metadata": {
        "colab": {
          "base_uri": "https://localhost:8080/"
        },
        "id": "TIBiqvb1PaA5",
        "outputId": "8e0567e5-e889-4537-a43f-d04780ce30da"
      },
      "execution_count": null,
      "outputs": [
        {
          "output_type": "stream",
          "name": "stdout",
          "text": [
            "[INFO] training network...\n",
            "Epoch 1/100\n",
            "31/31 [==============================] - 6s 163ms/step - loss: 0.9643 - accuracy: 0.4948 - val_loss: 0.8351 - val_accuracy: 0.5904\n",
            "Epoch 2/100\n",
            "31/31 [==============================] - 3s 95ms/step - loss: 0.7000 - accuracy: 0.6933 - val_loss: 0.5273 - val_accuracy: 0.8042\n",
            "Epoch 3/100\n",
            "31/31 [==============================] - 3s 87ms/step - loss: 0.6532 - accuracy: 0.7089 - val_loss: 0.5556 - val_accuracy: 0.7620\n",
            "Epoch 4/100\n",
            "31/31 [==============================] - 4s 121ms/step - loss: 0.5431 - accuracy: 0.7744 - val_loss: 0.5050 - val_accuracy: 0.8253\n",
            "Epoch 5/100\n",
            "31/31 [==============================] - 4s 118ms/step - loss: 0.5705 - accuracy: 0.7609 - val_loss: 0.4816 - val_accuracy: 0.8313\n",
            "Epoch 6/100\n",
            "31/31 [==============================] - 3s 88ms/step - loss: 0.4877 - accuracy: 0.7994 - val_loss: 0.4561 - val_accuracy: 0.8343\n",
            "Epoch 7/100\n",
            "31/31 [==============================] - 3s 109ms/step - loss: 0.4962 - accuracy: 0.8046 - val_loss: 0.6872 - val_accuracy: 0.7139\n",
            "Epoch 8/100\n",
            "31/31 [==============================] - 4s 135ms/step - loss: 0.4409 - accuracy: 0.8202 - val_loss: 0.4543 - val_accuracy: 0.8193\n",
            "Epoch 9/100\n",
            "31/31 [==============================] - 3s 88ms/step - loss: 0.4376 - accuracy: 0.8191 - val_loss: 0.5631 - val_accuracy: 0.8072\n",
            "Epoch 10/100\n",
            "31/31 [==============================] - 3s 90ms/step - loss: 0.4411 - accuracy: 0.8274 - val_loss: 0.4322 - val_accuracy: 0.8283\n",
            "Epoch 11/100\n",
            "31/31 [==============================] - 3s 106ms/step - loss: 0.4348 - accuracy: 0.8222 - val_loss: 0.4393 - val_accuracy: 0.8283\n",
            "Epoch 12/100\n",
            "31/31 [==============================] - 4s 134ms/step - loss: 0.4222 - accuracy: 0.8430 - val_loss: 0.6039 - val_accuracy: 0.7922\n",
            "Epoch 13/100\n",
            "31/31 [==============================] - 3s 86ms/step - loss: 0.4189 - accuracy: 0.8243 - val_loss: 0.4173 - val_accuracy: 0.8554\n",
            "Epoch 14/100\n",
            "31/31 [==============================] - 3s 87ms/step - loss: 0.3617 - accuracy: 0.8597 - val_loss: 0.4694 - val_accuracy: 0.8373\n",
            "Epoch 15/100\n",
            "31/31 [==============================] - 4s 124ms/step - loss: 0.3529 - accuracy: 0.8617 - val_loss: 0.5571 - val_accuracy: 0.8042\n",
            "Epoch 16/100\n",
            "31/31 [==============================] - 3s 90ms/step - loss: 0.3399 - accuracy: 0.8732 - val_loss: 0.4820 - val_accuracy: 0.8464\n",
            "Epoch 17/100\n",
            "31/31 [==============================] - 3s 88ms/step - loss: 0.3609 - accuracy: 0.8617 - val_loss: 0.4840 - val_accuracy: 0.8313\n",
            "Epoch 18/100\n",
            "31/31 [==============================] - 4s 141ms/step - loss: 0.3259 - accuracy: 0.8690 - val_loss: 0.5003 - val_accuracy: 0.8313\n",
            "Epoch 19/100\n",
            "31/31 [==============================] - 3s 100ms/step - loss: 0.3347 - accuracy: 0.8628 - val_loss: 0.4014 - val_accuracy: 0.8645\n",
            "Epoch 20/100\n",
            "31/31 [==============================] - 3s 91ms/step - loss: 0.4516 - accuracy: 0.8264 - val_loss: 0.4336 - val_accuracy: 0.8404\n",
            "Epoch 21/100\n",
            "31/31 [==============================] - 3s 94ms/step - loss: 0.3585 - accuracy: 0.8558 - val_loss: 0.3873 - val_accuracy: 0.8795\n",
            "Epoch 22/100\n",
            "31/31 [==============================] - 5s 151ms/step - loss: 0.3303 - accuracy: 0.8638 - val_loss: 0.3864 - val_accuracy: 0.8705\n",
            "Epoch 23/100\n",
            "31/31 [==============================] - 3s 89ms/step - loss: 0.2975 - accuracy: 0.8815 - val_loss: 0.8251 - val_accuracy: 0.7410\n",
            "Epoch 24/100\n",
            "31/31 [==============================] - 3s 87ms/step - loss: 0.3752 - accuracy: 0.8493 - val_loss: 0.4519 - val_accuracy: 0.8554\n",
            "Epoch 25/100\n",
            "31/31 [==============================] - 4s 120ms/step - loss: 0.3032 - accuracy: 0.8867 - val_loss: 0.5611 - val_accuracy: 0.8042\n",
            "Epoch 26/100\n",
            "31/31 [==============================] - 3s 92ms/step - loss: 0.3054 - accuracy: 0.8846 - val_loss: 0.4802 - val_accuracy: 0.8343\n",
            "Epoch 27/100\n",
            "31/31 [==============================] - 3s 87ms/step - loss: 0.2927 - accuracy: 0.8815 - val_loss: 0.4021 - val_accuracy: 0.8645\n",
            "Epoch 28/100\n",
            "31/31 [==============================] - 3s 106ms/step - loss: 0.2917 - accuracy: 0.8805 - val_loss: 0.3938 - val_accuracy: 0.8765\n",
            "Epoch 29/100\n",
            "31/31 [==============================] - 3s 90ms/step - loss: 0.2828 - accuracy: 0.8950 - val_loss: 0.4404 - val_accuracy: 0.8464\n",
            "Epoch 30/100\n",
            "31/31 [==============================] - 3s 91ms/step - loss: 0.2710 - accuracy: 0.8992 - val_loss: 0.3362 - val_accuracy: 0.8916\n",
            "Epoch 31/100\n",
            "31/31 [==============================] - 5s 145ms/step - loss: 0.3017 - accuracy: 0.8867 - val_loss: 0.3521 - val_accuracy: 0.8795\n",
            "Epoch 32/100\n",
            "31/31 [==============================] - 3s 91ms/step - loss: 0.3157 - accuracy: 0.8763 - val_loss: 0.4411 - val_accuracy: 0.8524\n",
            "Epoch 33/100\n",
            "31/31 [==============================] - 3s 86ms/step - loss: 0.2575 - accuracy: 0.9002 - val_loss: 0.3921 - val_accuracy: 0.8675\n",
            "Epoch 34/100\n",
            "31/31 [==============================] - 4s 135ms/step - loss: 0.2771 - accuracy: 0.8867 - val_loss: 0.3653 - val_accuracy: 0.8795\n",
            "Epoch 35/100\n",
            "31/31 [==============================] - 3s 91ms/step - loss: 0.2470 - accuracy: 0.9064 - val_loss: 0.4167 - val_accuracy: 0.8795\n",
            "Epoch 36/100\n",
            "31/31 [==============================] - 3s 91ms/step - loss: 0.2747 - accuracy: 0.8898 - val_loss: 0.4742 - val_accuracy: 0.8464\n",
            "Epoch 37/100\n",
            "31/31 [==============================] - 4s 139ms/step - loss: 0.2434 - accuracy: 0.8992 - val_loss: 0.4055 - val_accuracy: 0.8765\n",
            "Epoch 38/100\n",
            "31/31 [==============================] - 3s 108ms/step - loss: 0.2347 - accuracy: 0.9044 - val_loss: 0.3779 - val_accuracy: 0.8795\n",
            "Epoch 39/100\n",
            "31/31 [==============================] - 3s 93ms/step - loss: 0.2712 - accuracy: 0.8992 - val_loss: 0.4221 - val_accuracy: 0.8765\n",
            "Epoch 40/100\n",
            "31/31 [==============================] - 3s 92ms/step - loss: 0.2266 - accuracy: 0.9096 - val_loss: 0.4713 - val_accuracy: 0.8494\n",
            "Epoch 41/100\n",
            "31/31 [==============================] - 5s 153ms/step - loss: 0.2294 - accuracy: 0.9106 - val_loss: 0.4229 - val_accuracy: 0.8795\n",
            "Epoch 42/100\n",
            "31/31 [==============================] - 4s 136ms/step - loss: 0.2576 - accuracy: 0.8929 - val_loss: 0.4237 - val_accuracy: 0.8645\n",
            "Epoch 43/100\n",
            "31/31 [==============================] - 3s 92ms/step - loss: 0.1880 - accuracy: 0.9283 - val_loss: 0.4532 - val_accuracy: 0.8584\n",
            "Epoch 44/100\n",
            "31/31 [==============================] - 4s 112ms/step - loss: 0.2059 - accuracy: 0.9283 - val_loss: 0.3958 - val_accuracy: 0.8765\n",
            "Epoch 45/100\n",
            "31/31 [==============================] - 3s 91ms/step - loss: 0.2420 - accuracy: 0.9148 - val_loss: 0.4932 - val_accuracy: 0.8313\n",
            "Epoch 46/100\n",
            "31/31 [==============================] - 3s 87ms/step - loss: 0.2033 - accuracy: 0.9231 - val_loss: 0.4678 - val_accuracy: 0.8584\n",
            "Epoch 47/100\n",
            "31/31 [==============================] - 5s 150ms/step - loss: 0.3732 - accuracy: 0.8659 - val_loss: 0.4232 - val_accuracy: 0.8675\n",
            "Epoch 48/100\n",
            "31/31 [==============================] - 3s 90ms/step - loss: 0.5472 - accuracy: 0.7734 - val_loss: 0.4938 - val_accuracy: 0.8133\n",
            "Epoch 49/100\n",
            "31/31 [==============================] - 3s 93ms/step - loss: 0.3339 - accuracy: 0.8711 - val_loss: 0.4353 - val_accuracy: 0.8223\n",
            "Epoch 50/100\n",
            "31/31 [==============================] - 4s 127ms/step - loss: 0.2497 - accuracy: 0.9023 - val_loss: 0.4150 - val_accuracy: 0.8645\n",
            "Epoch 51/100\n",
            "31/31 [==============================] - 3s 87ms/step - loss: 0.2109 - accuracy: 0.9148 - val_loss: 0.3658 - val_accuracy: 0.8765\n",
            "Epoch 52/100\n",
            "31/31 [==============================] - 3s 89ms/step - loss: 0.2055 - accuracy: 0.9200 - val_loss: 0.3965 - val_accuracy: 0.8795\n",
            "Epoch 53/100\n",
            "31/31 [==============================] - 4s 117ms/step - loss: 0.1884 - accuracy: 0.9262 - val_loss: 0.4254 - val_accuracy: 0.8584\n",
            "Epoch 54/100\n",
            "31/31 [==============================] - 4s 125ms/step - loss: 0.1762 - accuracy: 0.9397 - val_loss: 0.4345 - val_accuracy: 0.8584\n",
            "Epoch 55/100\n",
            "31/31 [==============================] - 3s 91ms/step - loss: 0.1703 - accuracy: 0.9397 - val_loss: 0.4438 - val_accuracy: 0.8645\n",
            "Epoch 56/100\n",
            "31/31 [==============================] - 3s 102ms/step - loss: 0.1731 - accuracy: 0.9376 - val_loss: 0.4745 - val_accuracy: 0.8524\n",
            "Epoch 57/100\n",
            "31/31 [==============================] - 3s 91ms/step - loss: 0.1886 - accuracy: 0.9314 - val_loss: 0.3591 - val_accuracy: 0.8855\n",
            "Epoch 58/100\n",
            "31/31 [==============================] - 3s 86ms/step - loss: 0.2111 - accuracy: 0.9148 - val_loss: 0.5816 - val_accuracy: 0.8404\n",
            "Epoch 59/100\n",
            "31/31 [==============================] - 3s 108ms/step - loss: 0.2022 - accuracy: 0.9283 - val_loss: 0.3832 - val_accuracy: 0.8735\n",
            "Epoch 60/100\n",
            "31/31 [==============================] - 4s 135ms/step - loss: 0.1666 - accuracy: 0.9262 - val_loss: 0.4378 - val_accuracy: 0.8614\n",
            "Epoch 61/100\n",
            "31/31 [==============================] - 3s 90ms/step - loss: 0.1685 - accuracy: 0.9324 - val_loss: 0.4538 - val_accuracy: 0.8524\n",
            "Epoch 62/100\n",
            "31/31 [==============================] - 3s 88ms/step - loss: 0.1593 - accuracy: 0.9397 - val_loss: 0.3936 - val_accuracy: 0.8795\n",
            "Epoch 63/100\n",
            "31/31 [==============================] - 3s 92ms/step - loss: 0.1944 - accuracy: 0.9231 - val_loss: 0.3710 - val_accuracy: 0.9036\n",
            "Epoch 64/100\n",
            "31/31 [==============================] - 3s 91ms/step - loss: 0.1846 - accuracy: 0.9241 - val_loss: 0.4702 - val_accuracy: 0.8675\n",
            "Epoch 65/100\n",
            "31/31 [==============================] - 3s 88ms/step - loss: 0.1802 - accuracy: 0.9345 - val_loss: 0.4228 - val_accuracy: 0.8735\n",
            "Epoch 66/100\n",
            "31/31 [==============================] - 5s 165ms/step - loss: 0.1564 - accuracy: 0.9418 - val_loss: 0.4175 - val_accuracy: 0.8735\n",
            "Epoch 67/100\n",
            "31/31 [==============================] - 3s 88ms/step - loss: 0.1707 - accuracy: 0.9304 - val_loss: 0.4655 - val_accuracy: 0.8645\n",
            "Epoch 68/100\n",
            "31/31 [==============================] - 3s 92ms/step - loss: 0.1606 - accuracy: 0.9345 - val_loss: 0.4306 - val_accuracy: 0.8855\n",
            "Epoch 69/100\n",
            "31/31 [==============================] - 4s 138ms/step - loss: 0.1412 - accuracy: 0.9522 - val_loss: 0.4332 - val_accuracy: 0.8795\n",
            "Epoch 70/100\n",
            "31/31 [==============================] - 3s 91ms/step - loss: 0.1374 - accuracy: 0.9449 - val_loss: 0.4915 - val_accuracy: 0.8584\n",
            "Epoch 71/100\n",
            "31/31 [==============================] - 3s 92ms/step - loss: 0.1635 - accuracy: 0.9376 - val_loss: 0.4321 - val_accuracy: 0.8675\n",
            "Epoch 72/100\n",
            "31/31 [==============================] - 4s 123ms/step - loss: 0.1477 - accuracy: 0.9449 - val_loss: 0.4887 - val_accuracy: 0.8524\n",
            "Epoch 73/100\n",
            "31/31 [==============================] - 3s 89ms/step - loss: 0.1649 - accuracy: 0.9335 - val_loss: 0.4917 - val_accuracy: 0.8554\n",
            "Epoch 74/100\n",
            "31/31 [==============================] - 3s 91ms/step - loss: 0.1364 - accuracy: 0.9470 - val_loss: 0.4640 - val_accuracy: 0.8735\n",
            "Epoch 75/100\n",
            "31/31 [==============================] - 5s 145ms/step - loss: 0.1214 - accuracy: 0.9563 - val_loss: 0.4855 - val_accuracy: 0.8343\n",
            "Epoch 76/100\n",
            "31/31 [==============================] - 3s 87ms/step - loss: 0.1177 - accuracy: 0.9563 - val_loss: 0.4733 - val_accuracy: 0.8584\n",
            "Epoch 77/100\n",
            "31/31 [==============================] - 3s 92ms/step - loss: 0.1395 - accuracy: 0.9491 - val_loss: 0.4272 - val_accuracy: 0.8825\n",
            "Epoch 78/100\n",
            "31/31 [==============================] - 3s 92ms/step - loss: 0.1356 - accuracy: 0.9459 - val_loss: 0.4484 - val_accuracy: 0.8825\n",
            "Epoch 79/100\n",
            "31/31 [==============================] - 5s 158ms/step - loss: 0.1200 - accuracy: 0.9605 - val_loss: 0.4716 - val_accuracy: 0.8765\n",
            "Epoch 80/100\n",
            "31/31 [==============================] - 3s 92ms/step - loss: 0.1394 - accuracy: 0.9491 - val_loss: 0.5263 - val_accuracy: 0.8524\n",
            "Epoch 81/100\n",
            "31/31 [==============================] - 3s 87ms/step - loss: 0.1742 - accuracy: 0.9324 - val_loss: 0.5063 - val_accuracy: 0.8614\n",
            "Epoch 82/100\n",
            "31/31 [==============================] - 4s 122ms/step - loss: 0.1543 - accuracy: 0.9387 - val_loss: 0.4607 - val_accuracy: 0.8795\n",
            "Epoch 83/100\n",
            "31/31 [==============================] - 4s 127ms/step - loss: 0.1458 - accuracy: 0.9407 - val_loss: 0.5874 - val_accuracy: 0.8404\n",
            "Epoch 84/100\n",
            "31/31 [==============================] - 3s 88ms/step - loss: 0.1369 - accuracy: 0.9543 - val_loss: 0.4458 - val_accuracy: 0.8735\n",
            "Epoch 85/100\n",
            "31/31 [==============================] - 3s 96ms/step - loss: 0.1231 - accuracy: 0.9595 - val_loss: 0.5360 - val_accuracy: 0.8554\n",
            "Epoch 86/100\n",
            "31/31 [==============================] - 5s 143ms/step - loss: 0.1146 - accuracy: 0.9595 - val_loss: 0.5187 - val_accuracy: 0.8645\n",
            "Epoch 87/100\n",
            "31/31 [==============================] - 3s 92ms/step - loss: 0.1156 - accuracy: 0.9543 - val_loss: 0.6192 - val_accuracy: 0.8313\n",
            "Epoch 88/100\n",
            "31/31 [==============================] - 3s 87ms/step - loss: 0.1050 - accuracy: 0.9595 - val_loss: 0.5308 - val_accuracy: 0.8584\n",
            "Epoch 89/100\n",
            "31/31 [==============================] - 4s 136ms/step - loss: 0.1477 - accuracy: 0.9418 - val_loss: 0.5601 - val_accuracy: 0.8554\n",
            "Epoch 90/100\n",
            "31/31 [==============================] - 4s 122ms/step - loss: 0.1281 - accuracy: 0.9532 - val_loss: 0.4744 - val_accuracy: 0.8916\n",
            "Epoch 91/100\n",
            "31/31 [==============================] - 3s 112ms/step - loss: 0.1504 - accuracy: 0.9428 - val_loss: 0.6006 - val_accuracy: 0.8313\n",
            "Epoch 92/100\n",
            "31/31 [==============================] - 3s 89ms/step - loss: 0.1245 - accuracy: 0.9511 - val_loss: 0.5056 - val_accuracy: 0.8675\n",
            "Epoch 93/100\n",
            "31/31 [==============================] - 3s 88ms/step - loss: 0.0992 - accuracy: 0.9657 - val_loss: 0.5889 - val_accuracy: 0.8614\n",
            "Epoch 94/100\n",
            "31/31 [==============================] - 3s 91ms/step - loss: 0.1010 - accuracy: 0.9647 - val_loss: 0.5776 - val_accuracy: 0.8554\n",
            "Epoch 95/100\n",
            "31/31 [==============================] - 4s 140ms/step - loss: 0.1070 - accuracy: 0.9615 - val_loss: 0.5634 - val_accuracy: 0.8584\n",
            "Epoch 96/100\n",
            "31/31 [==============================] - 3s 87ms/step - loss: 0.0920 - accuracy: 0.9699 - val_loss: 0.5056 - val_accuracy: 0.8705\n",
            "Epoch 97/100\n",
            "31/31 [==============================] - 3s 90ms/step - loss: 0.0947 - accuracy: 0.9688 - val_loss: 0.4908 - val_accuracy: 0.8886\n",
            "Epoch 98/100\n",
            "31/31 [==============================] - 5s 147ms/step - loss: 0.1034 - accuracy: 0.9626 - val_loss: 0.5530 - val_accuracy: 0.8675\n",
            "Epoch 99/100\n",
            "31/31 [==============================] - 3s 91ms/step - loss: 0.1142 - accuracy: 0.9511 - val_loss: 0.5226 - val_accuracy: 0.8614\n",
            "Epoch 100/100\n",
            "31/31 [==============================] - 3s 91ms/step - loss: 0.1048 - accuracy: 0.9636 - val_loss: 0.5498 - val_accuracy: 0.8524\n"
          ]
        }
      ]
    },
    {
      "cell_type": "code",
      "source": [
        "# plot the training and validation accuracy\n",
        "N = np.arange(0, EPOCHS)\n",
        "plt.style.use(\"ggplot\")\n",
        "plt.figure(figsize = [10,8])\n",
        "plt.plot(N, H.history[\"accuracy\"], label=\"train_acc\")\n",
        "plt.plot(N, H.history[\"val_accuracy\"], label=\"val_acc\")\n",
        "plt.title(\"CNN: Training and Validation Accuracy\")\n",
        "plt.xlabel(\"Epoch #\", weight=\"bold\")\n",
        "plt.ylabel(\"Accuracy\", weight=\"bold\")\n",
        "plt.legend()\n",
        "plt.show()"
      ],
      "metadata": {
        "colab": {
          "base_uri": "https://localhost:8080/",
          "height": 723
        },
        "id": "38NVbuDpRMqs",
        "outputId": "979ca49a-0e2d-4eb5-c53a-153350eb1573"
      },
      "execution_count": null,
      "outputs": [
        {
          "output_type": "display_data",
          "data": {
            "text/plain": [
              "<Figure size 1000x800 with 1 Axes>"
            ],
            "image/png": "[encoded data removed]"
          },
          "metadata": {}
        }
      ]
    },
    {
      "cell_type": "code",
      "source": [
        "# plot the training and validation loss\n",
        "N = np.arange(0, EPOCHS)\n",
        "plt.style.use(\"ggplot\")\n",
        "plt.figure(figsize = [10,8])\n",
        "plt.plot(N, H.history[\"loss\"], label=\"train_loss\")\n",
        "plt.plot(N, H.history[\"val_loss\"], label=\"val_loss\")\n",
        "plt.title(\"CNN: Training & Validation Loss\")\n",
        "plt.xlabel(\"Epoch #\", weight=\"bold\")\n",
        "plt.ylabel(\"Loss\", weight=\"bold\")\n",
        "plt.legend()\n",
        "plt.show()"
      ],
      "metadata": {
        "colab": {
          "base_uri": "https://localhost:8080/",
          "height": 723
        },
        "id": "OwUIvUryRQee",
        "outputId": "23024e98-ae6e-493c-e0f9-d2915f4759b5"
      },
      "execution_count": null,
      "outputs": [
        {
          "output_type": "display_data",
          "data": {
            "text/plain": [
              "<Figure size 1000x800 with 1 Axes>"
            ],
            "image/png": "[encoded data removed]"
          },
          "metadata": {}
        }
      ]
    },
    {
      "cell_type": "code",
      "source": [
        "model.save(\"/content/drive/MyDrive/CNN/Dataset/Scene.model\")"
      ],
      "metadata": {
        "colab": {
          "base_uri": "https://localhost:8080/"
        },
        "id": "bbI1QJ2aRUje",
        "outputId": "ba0f3634-5e5b-4a25-d57d-ae09e0bc9841"
      },
      "execution_count": null,
      "outputs": [
        {
          "output_type": "stream",
          "name": "stderr",
          "text": [
            "WARNING:absl:Found untraced functions such as _jit_compiled_convolution_op, _jit_compiled_convolution_op, _update_step_xla while saving (showing 3 of 3). These functions will not be directly callable after loading.\n"
          ]
        }
      ]
    },
    {
      "cell_type": "code",
      "source": [
        "from tensorflow.keras.preprocessing.image import img_to_array\n",
        "from tensorflow.keras.models import load_model\n",
        "import numpy as np\n",
        "import argparse\n",
        "import imutils\n",
        "import cv2\n",
        "import matplotlib.pyplot as plt\n",
        "%matplotlib inline"
      ],
      "metadata": {
        "id": "cZNmTBmOSVba"
      },
      "execution_count": null,
      "outputs": []
    },
    {
      "cell_type": "code",
      "source": [
        "def display_img(img):\n",
        "    fig = plt.figure(figsize=(12,10))\n",
        "    plt.grid(b=None)\n",
        "    ax = fig.add_subplot(111)\n",
        "    ax.imshow(img)"
      ],
      "metadata": {
        "id": "YkqiUtRnSZ_q"
      },
      "execution_count": null,
      "outputs": []
    },
    {
      "cell_type": "code",
      "source": [
        "!pip install tqdm"
      ],
      "metadata": {
        "colab": {
          "base_uri": "https://localhost:8080/"
        },
        "id": "AdFCdFpkTHwS",
        "outputId": "f40ac737-e0ab-4608-c270-785d5896ae67"
      },
      "execution_count": null,
      "outputs": [
        {
          "output_type": "stream",
          "name": "stdout",
          "text": [
            "Looking in indexes: https://pypi.org/simple, https://us-python.pkg.dev/colab-wheels/public/simple/\n",
            "Requirement already satisfied: tqdm in /usr/local/lib/python3.10/dist-packages (4.65.0)\n"
          ]
        }
      ]
    },
    {
      "cell_type": "code",
      "source": [
        "import matplotlib.pyplot as plt\n",
        "\n",
        "model = load_model(\"/content/drive/MyDrive/CNN/Dataset/Scene_New.model\")\n",
        "# grab the image paths and randomly shuffle them\n",
        "testImagePaths = sorted(list(paths.list_images('/content/drive/MyDrive/CNN/Dataset/CNN_test_examples')))   # data folder with 2 categorical folders\n",
        "\n",
        "all_class = [\"Buildings\", \"Forest\", \"Sea\"]\n",
        "\n",
        "# progress bar\n",
        "with tqdm(total=len(testImagePaths)) as pbar:\n",
        "    for imagePath in testImagePaths:\n",
        "        # load the image\n",
        "        image = cv2.imread(imagePath)\n",
        "        orig = image.copy()\n",
        "\n",
        "        # pre-process the image for classification\n",
        "        image = cv2.resize(image, (28, 28))\n",
        "        image = image.astype(\"float\") / 255.0\n",
        "        image = img_to_array(image)\n",
        "        image = np.expand_dims(image, axis=0)\n",
        "\n",
        "        # classify the input image\n",
        "        prd_conf = model.predict(image)[0]\n",
        "\n",
        "        # build the label\n",
        "        label = all_class[np.argmax(prd_conf)]\n",
        "        proba = prd_conf[np.argmax(prd_conf)]\n",
        "\n",
        "        label = \"{}: {:.2f}%\".format(label, proba * 100)\n",
        "\n",
        "        # draw the label on the image\n",
        "        output = imutils.resize(orig, width=400)\n",
        "        cv2.putText(output, label, (10, 25), cv2.FONT_HERSHEY_SIMPLEX,\n",
        "                    0.7, (255, 0, 0), 2)\n",
        "\n",
        "        # convert img to rgb format and display\n",
        "        img = cv2.cvtColor(output, cv2.COLOR_BGR2RGB)\n",
        "        plt.imshow(img)\n",
        "        plt.axis('off')\n",
        "        plt.show()\n",
        "\n",
        "        pbar.update(1)"
      ],
      "metadata": {
        "colab": {
          "base_uri": "https://localhost:8080/",
          "height": 535,
          "referenced_widgets": [
            "ca78d0bd1f01487c95396f32386e445e",
            "87c8513541e7430182a3a17e58b4e768",
            "5fbe98d7ca234e688549b8b4aa9ee56d",
            "4970b5ebca084b248ca1807d905804bc",
            "05e6559f41514dc5898283fd2ccc113d",
            "6ea6ef14c158467ab2ab7ea3c0ced5db",
            "b3f8dd751a9f448f93944ae2566b337c",
            "37938d04312e43239128856ff00f4ab1",
            "b320b8a08f54407f98d12894d82dd88e",
            "cba6560989df4fadaa1987e6a27e5813",
            "e0ea02e77369446badfbc8b5fe2c16f9"
          ]
        },
        "id": "PCtYlaHzbWp5",
        "outputId": "dac21288-df9f-4319-d1c8-903365f799a6"
      },
      "execution_count": null,
      "outputs": [
        {
          "output_type": "display_data",
          "data": {
            "text/plain": [
              "  0%|          | 0/28 [00:00<?, ?it/s]"
            ],
            "application/vnd.jupyter.widget-view+json": {
              "version_major": 2,
              "version_minor": 0,
              "model_id": "ca78d0bd1f01487c95396f32386e445e"
            }
          },
          "metadata": {}
        },
        {
          "output_type": "stream",
          "name": "stdout",
          "text": [
            "1/1 [==============================] - 0s 77ms/step\n",
            "1/1 [==============================] - 0s 22ms/step\n",
            "1/1 [==============================] - 0s 22ms/step\n",
            "1/1 [==============================] - 0s 26ms/step\n",
            "1/1 [==============================] - 0s 22ms/step\n",
            "1/1 [==============================] - 0s 25ms/step\n",
            "1/1 [==============================] - 0s 23ms/step\n",
            "1/1 [==============================] - 0s 23ms/step\n",
            "1/1 [==============================] - 0s 22ms/step\n",
            "1/1 [==============================] - 0s 22ms/step\n",
            "1/1 [==============================] - 0s 24ms/step\n",
            "1/1 [==============================] - 0s 23ms/step\n",
            "1/1 [==============================] - 0s 29ms/step\n",
            "1/1 [==============================] - 0s 26ms/step\n",
            "1/1 [==============================] - 0s 25ms/step\n",
            "1/1 [==============================] - 0s 27ms/step\n",
            "1/1 [==============================] - 0s 25ms/step\n",
            "1/1 [==============================] - 0s 25ms/step\n",
            "1/1 [==============================] - 0s 24ms/step\n",
            "1/1 [==============================] - 0s 24ms/step\n",
            "1/1 [==============================] - 0s 23ms/step\n",
            "1/1 [==============================] - 0s 23ms/step\n",
            "1/1 [==============================] - 0s 24ms/step\n",
            "1/1 [==============================] - 0s 23ms/step\n",
            "1/1 [==============================] - 0s 27ms/step\n",
            "1/1 [==============================] - 0s 22ms/step\n",
            "1/1 [==============================] - 0s 46ms/step\n",
            "1/1 [==============================] - 0s 23ms/step\n"
          ]
        }
      ]
    },
    {
      "cell_type": "code",
      "source": [
        "pip install gradio"
      ],
      "metadata": {
        "colab": {
          "base_uri": "https://localhost:8080/"
        },
        "id": "OcZXktauXj8P",
        "outputId": "7d0f626b-7e6f-4e86-d6db-7c655f96fc0e"
      },
      "execution_count": null,
      "outputs": [
        {
          "output_type": "stream",
          "name": "stdout",
          "text": [
            "Looking in indexes: https://pypi.org/simple, https://us-python.pkg.dev/colab-wheels/public/simple/\n",
            "Collecting gradio\n",
            "  Downloading gradio-3.34.0-py3-none-any.whl (20.0 MB)\n",
            "\u001b[2K     \u001b[90m━━━━━━━━━━━━━━━━━━━━━━━━━━━━━━━━━━━━━━━━\u001b[0m \u001b[32m20.0/20.0 MB\u001b[0m \u001b[31m41.6 MB/s\u001b[0m eta \u001b[36m0:00:00\u001b[0m\n",
            "\u001b[?25hCollecting aiofiles (from gradio)\n",
            "  Downloading aiofiles-23.1.0-py3-none-any.whl (14 kB)\n",
            "Collecting aiohttp (from gradio)\n",
            "  Downloading aiohttp-3.8.4-cp310-cp310-manylinux_2_17_x86_64.manylinux2014_x86_64.whl (1.0 MB)\n",
            "\u001b[2K     \u001b[90m━━━━━━━━━━━━━━━━━━━━━━━━━━━━━━━━━━━━━━━━\u001b[0m \u001b[32m1.0/1.0 MB\u001b[0m \u001b[31m68.2 MB/s\u001b[0m eta \u001b[36m0:00:00\u001b[0m\n",
            "\u001b[?25hRequirement already satisfied: altair>=4.2.0 in /usr/local/lib/python3.10/dist-packages (from gradio) (4.2.2)\n",
            "Collecting fastapi (from gradio)\n",
            "  Downloading fastapi-0.96.0-py3-none-any.whl (57 kB)\n",
            "\u001b[2K     \u001b[90m━━━━━━━━━━━━━━━━━━━━━━━━━━━━━━━━━━━━━━━━\u001b[0m \u001b[32m57.1/57.1 kB\u001b[0m \u001b[31m6.9 MB/s\u001b[0m eta \u001b[36m0:00:00\u001b[0m\n",
            "\u001b[?25hCollecting ffmpy (from gradio)\n",
            "  Downloading ffmpy-0.3.0.tar.gz (4.8 kB)\n",
            "  Preparing metadata (setup.py) ... \u001b[?25l\u001b[?25hdone\n",
            "Collecting gradio-client>=0.2.6 (from gradio)\n",
            "  Downloading gradio_client-0.2.6-py3-none-any.whl (288 kB)\n",
            "\u001b[2K     \u001b[90m━━━━━━━━━━━━━━━━━━━━━━━━━━━━━━━━━━━━━━\u001b[0m \u001b[32m288.3/288.3 kB\u001b[0m \u001b[31m33.3 MB/s\u001b[0m eta \u001b[36m0:00:00\u001b[0m\n",
            "\u001b[?25hCollecting httpx (from gradio)\n",
            "  Downloading httpx-0.24.1-py3-none-any.whl (75 kB)\n",
            "\u001b[2K     \u001b[90m━━━━━━━━━━━━━━━━━━━━━━━━━━━━━━━━━━━━━━━━\u001b[0m \u001b[32m75.4/75.4 kB\u001b[0m \u001b[31m10.6 MB/s\u001b[0m eta \u001b[36m0:00:00\u001b[0m\n",
            "\u001b[?25hCollecting huggingface-hub>=0.14.0 (from gradio)\n",
            "  Downloading huggingface_hub-0.15.1-py3-none-any.whl (236 kB)\n",
            "\u001b[2K     \u001b[90m━━━━━━━━━━━━━━━━━━━━━━━━━━━━━━━━━━━━━━\u001b[0m \u001b[32m236.8/236.8 kB\u001b[0m \u001b[31m27.7 MB/s\u001b[0m eta \u001b[36m0:00:00\u001b[0m\n",
            "\u001b[?25hRequirement already satisfied: jinja2 in /usr/local/lib/python3.10/dist-packages (from gradio) (3.1.2)\n",
            "Requirement already satisfied: markdown-it-py[linkify]>=2.0.0 in /usr/local/lib/python3.10/dist-packages (from gradio) (2.2.0)\n",
            "Requirement already satisfied: markupsafe in /usr/local/lib/python3.10/dist-packages (from gradio) (2.1.2)\n",
            "Requirement already satisfied: matplotlib in /usr/local/lib/python3.10/dist-packages (from gradio) (3.7.1)\n",
            "Collecting mdit-py-plugins<=0.3.3 (from gradio)\n",
            "  Downloading mdit_py_plugins-0.3.3-py3-none-any.whl (50 kB)\n",
            "\u001b[2K     \u001b[90m━━━━━━━━━━━━━━━━━━━━━━━━━━━━━━━━━━━━━━━━\u001b[0m \u001b[32m50.5/50.5 kB\u001b[0m \u001b[31m6.2 MB/s\u001b[0m eta \u001b[36m0:00:00\u001b[0m\n",
            "\u001b[?25hRequirement already satisfied: numpy in /usr/local/lib/python3.10/dist-packages (from gradio) (1.22.4)\n",
            "Collecting orjson (from gradio)\n",
            "  Downloading orjson-3.9.1-cp310-cp310-manylinux_2_17_x86_64.manylinux2014_x86_64.whl (136 kB)\n",
            "\u001b[2K     \u001b[90m━━━━━━━━━━━━━━━━━━━━━━━━━━━━━━━━━━━━━━\u001b[0m \u001b[32m137.0/137.0 kB\u001b[0m \u001b[31m17.2 MB/s\u001b[0m eta \u001b[36m0:00:00\u001b[0m\n",
            "\u001b[?25hRequirement already satisfied: pandas in /usr/local/lib/python3.10/dist-packages (from gradio) (1.5.3)\n",
            "Requirement already satisfied: pillow in /usr/local/lib/python3.10/dist-packages (from gradio) (8.4.0)\n",
            "Requirement already satisfied: pydantic in /usr/local/lib/python3.10/dist-packages (from gradio) (1.10.7)\n",
            "Collecting pydub (from gradio)\n",
            "  Downloading pydub-0.25.1-py2.py3-none-any.whl (32 kB)\n",
            "Requirement already satisfied: pygments>=2.12.0 in /usr/local/lib/python3.10/dist-packages (from gradio) (2.14.0)\n",
            "Collecting python-multipart (from gradio)\n",
            "  Downloading python_multipart-0.0.6-py3-none-any.whl (45 kB)\n",
            "\u001b[2K     \u001b[90m━━━━━━━━━━━━━━━━━━━━━━━━━━━━━━━━━━━━━━━━\u001b[0m \u001b[32m45.7/45.7 kB\u001b[0m \u001b[31m3.7 MB/s\u001b[0m eta \u001b[36m0:00:00\u001b[0m\n",
            "\u001b[?25hRequirement already satisfied: pyyaml in /usr/local/lib/python3.10/dist-packages (from gradio) (6.0)\n",
            "Requirement already satisfied: requests in /usr/local/lib/python3.10/dist-packages (from gradio) (2.27.1)\n",
            "Collecting semantic-version (from gradio)\n",
            "  Downloading semantic_version-2.10.0-py2.py3-none-any.whl (15 kB)\n",
            "Requirement already satisfied: typing-extensions in /usr/local/lib/python3.10/dist-packages (from gradio) (4.5.0)\n",
            "Collecting uvicorn>=0.14.0 (from gradio)\n",
            "  Downloading uvicorn-0.22.0-py3-none-any.whl (58 kB)\n",
            "\u001b[2K     \u001b[90m━━━━━━━━━━━━━━━━━━━━━━━━━━━━━━━━━━━━━━━━\u001b[0m \u001b[32m58.3/58.3 kB\u001b[0m \u001b[31m7.9 MB/s\u001b[0m eta \u001b[36m0:00:00\u001b[0m\n",
            "\u001b[?25hCollecting websockets>=10.0 (from gradio)\n",
            "  Downloading websockets-11.0.3-cp310-cp310-manylinux_2_5_x86_64.manylinux1_x86_64.manylinux_2_17_x86_64.manylinux2014_x86_64.whl (129 kB)\n",
            "\u001b[2K     \u001b[90m━━━━━━━━━━━━━━━━━━━━━━━━━━━━━━━━━━━━━━\u001b[0m \u001b[32m129.9/129.9 kB\u001b[0m \u001b[31m17.0 MB/s\u001b[0m eta \u001b[36m0:00:00\u001b[0m\n",
            "\u001b[?25hRequirement already satisfied: entrypoints in /usr/local/lib/python3.10/dist-packages (from altair>=4.2.0->gradio) (0.4)\n",
            "Requirement already satisfied: jsonschema>=3.0 in /usr/local/lib/python3.10/dist-packages (from altair>=4.2.0->gradio) (4.3.3)\n",
            "Requirement already satisfied: toolz in /usr/local/lib/python3.10/dist-packages (from altair>=4.2.0->gradio) (0.12.0)\n",
            "Requirement already satisfied: fsspec in /usr/local/lib/python3.10/dist-packages (from gradio-client>=0.2.6->gradio) (2023.4.0)\n",
            "Requirement already satisfied: packaging in /usr/local/lib/python3.10/dist-packages (from gradio-client>=0.2.6->gradio) (23.1)\n",
            "Requirement already satisfied: filelock in /usr/local/lib/python3.10/dist-packages (from huggingface-hub>=0.14.0->gradio) (3.12.0)\n",
            "Requirement already satisfied: tqdm>=4.42.1 in /usr/local/lib/python3.10/dist-packages (from huggingface-hub>=0.14.0->gradio) (4.65.0)\n",
            "Requirement already satisfied: mdurl~=0.1 in /usr/local/lib/python3.10/dist-packages (from markdown-it-py[linkify]>=2.0.0->gradio) (0.1.2)\n",
            "Collecting linkify-it-py<3,>=1 (from markdown-it-py[linkify]>=2.0.0->gradio)\n",
            "  Downloading linkify_it_py-2.0.2-py3-none-any.whl (19 kB)\n",
            "Requirement already satisfied: python-dateutil>=2.8.1 in /usr/local/lib/python3.10/dist-packages (from pandas->gradio) (2.8.2)\n",
            "Requirement already satisfied: pytz>=2020.1 in /usr/local/lib/python3.10/dist-packages (from pandas->gradio) (2022.7.1)\n",
            "Requirement already satisfied: click>=7.0 in /usr/local/lib/python3.10/dist-packages (from uvicorn>=0.14.0->gradio) (8.1.3)\n",
            "Collecting h11>=0.8 (from uvicorn>=0.14.0->gradio)\n",
            "  Downloading h11-0.14.0-py3-none-any.whl (58 kB)\n",
            "\u001b[2K     \u001b[90m━━━━━━━━━━━━━━━━━━━━━━━━━━━━━━━━━━━━━━━━\u001b[0m \u001b[32m58.3/58.3 kB\u001b[0m \u001b[31m7.2 MB/s\u001b[0m eta \u001b[36m0:00:00\u001b[0m\n",
            "\u001b[?25hRequirement already satisfied: attrs>=17.3.0 in /usr/local/lib/python3.10/dist-packages (from aiohttp->gradio) (23.1.0)\n",
            "Requirement already satisfied: charset-normalizer<4.0,>=2.0 in /usr/local/lib/python3.10/dist-packages (from aiohttp->gradio) (2.0.12)\n",
            "Collecting multidict<7.0,>=4.5 (from aiohttp->gradio)\n",
            "  Downloading multidict-6.0.4-cp310-cp310-manylinux_2_17_x86_64.manylinux2014_x86_64.whl (114 kB)\n",
            "\u001b[2K     \u001b[90m━━━━━━━━━━━━━━━━━━━━━━━━━━━━━━━━━━━━━━\u001b[0m \u001b[32m114.5/114.5 kB\u001b[0m \u001b[31m16.3 MB/s\u001b[0m eta \u001b[36m0:00:00\u001b[0m\n",
            "\u001b[?25hCollecting async-timeout<5.0,>=4.0.0a3 (from aiohttp->gradio)\n",
            "  Downloading async_timeout-4.0.2-py3-none-any.whl (5.8 kB)\n",
            "Collecting yarl<2.0,>=1.0 (from aiohttp->gradio)\n",
            "  Downloading yarl-1.9.2-cp310-cp310-manylinux_2_17_x86_64.manylinux2014_x86_64.whl (268 kB)\n",
            "\u001b[2K     \u001b[90m━━━━━━━━━━━━━━━━━━━━━━━━━━━━━━━━━━━━━━\u001b[0m \u001b[32m268.8/268.8 kB\u001b[0m \u001b[31m24.6 MB/s\u001b[0m eta \u001b[36m0:00:00\u001b[0m\n",
            "\u001b[?25hCollecting frozenlist>=1.1.1 (from aiohttp->gradio)\n",
            "  Downloading frozenlist-1.3.3-cp310-cp310-manylinux_2_5_x86_64.manylinux1_x86_64.manylinux_2_17_x86_64.manylinux2014_x86_64.whl (149 kB)\n",
            "\u001b[2K     \u001b[90m━━━━━━━━━━━━━━━━━━━━━━━━━━━━━━━━━━━━━━\u001b[0m \u001b[32m149.6/149.6 kB\u001b[0m \u001b[31m17.0 MB/s\u001b[0m eta \u001b[36m0:00:00\u001b[0m\n",
            "\u001b[?25hCollecting aiosignal>=1.1.2 (from aiohttp->gradio)\n",
            "  Downloading aiosignal-1.3.1-py3-none-any.whl (7.6 kB)\n",
            "Collecting starlette<0.28.0,>=0.27.0 (from fastapi->gradio)\n",
            "  Downloading starlette-0.27.0-py3-none-any.whl (66 kB)\n",
            "\u001b[2K     \u001b[90m━━━━━━━━━━━━━━━━━━━━━━━━━━━━━━━━━━━━━━━━\u001b[0m \u001b[32m67.0/67.0 kB\u001b[0m \u001b[31m7.8 MB/s\u001b[0m eta \u001b[36m0:00:00\u001b[0m\n",
            "\u001b[?25hRequirement already satisfied: certifi in /usr/local/lib/python3.10/dist-packages (from httpx->gradio) (2022.12.7)\n",
            "Collecting httpcore<0.18.0,>=0.15.0 (from httpx->gradio)\n",
            "  Downloading httpcore-0.17.2-py3-none-any.whl (72 kB)\n",
            "\u001b[2K     \u001b[90m━━━━━━━━━━━━━━━━━━━━━━━━━━━━━━━━━━━━━━━━\u001b[0m \u001b[32m72.5/72.5 kB\u001b[0m \u001b[31m8.4 MB/s\u001b[0m eta \u001b[36m0:00:00\u001b[0m\n",
            "\u001b[?25hRequirement already satisfied: idna in /usr/local/lib/python3.10/dist-packages (from httpx->gradio) (3.4)\n",
            "Requirement already satisfied: sniffio in /usr/local/lib/python3.10/dist-packages (from httpx->gradio) (1.3.0)\n",
            "Requirement already satisfied: contourpy>=1.0.1 in /usr/local/lib/python3.10/dist-packages (from matplotlib->gradio) (1.0.7)\n",
            "Requirement already satisfied: cycler>=0.10 in /usr/local/lib/python3.10/dist-packages (from matplotlib->gradio) (0.11.0)\n",
            "Requirement already satisfied: fonttools>=4.22.0 in /usr/local/lib/python3.10/dist-packages (from matplotlib->gradio) (4.39.3)\n",
            "Requirement already satisfied: kiwisolver>=1.0.1 in /usr/local/lib/python3.10/dist-packages (from matplotlib->gradio) (1.4.4)\n",
            "Requirement already satisfied: pyparsing>=2.3.1 in /usr/local/lib/python3.10/dist-packages (from matplotlib->gradio) (3.0.9)\n",
            "Requirement already satisfied: urllib3<1.27,>=1.21.1 in /usr/local/lib/python3.10/dist-packages (from requests->gradio) (1.26.15)\n",
            "Requirement already satisfied: anyio<5.0,>=3.0 in /usr/local/lib/python3.10/dist-packages (from httpcore<0.18.0,>=0.15.0->httpx->gradio) (3.6.2)\n",
            "Requirement already satisfied: pyrsistent!=0.17.0,!=0.17.1,!=0.17.2,>=0.14.0 in /usr/local/lib/python3.10/dist-packages (from jsonschema>=3.0->altair>=4.2.0->gradio) (0.19.3)\n",
            "Collecting uc-micro-py (from linkify-it-py<3,>=1->markdown-it-py[linkify]>=2.0.0->gradio)\n",
            "  Downloading uc_micro_py-1.0.2-py3-none-any.whl (6.2 kB)\n",
            "Requirement already satisfied: six>=1.5 in /usr/local/lib/python3.10/dist-packages (from python-dateutil>=2.8.1->pandas->gradio) (1.16.0)\n",
            "Building wheels for collected packages: ffmpy\n",
            "  Building wheel for ffmpy (setup.py) ... \u001b[?25l\u001b[?25hdone\n",
            "  Created wheel for ffmpy: filename=ffmpy-0.3.0-py3-none-any.whl size=4694 sha256=0cc4d119326bc88d88fc737700b9434de8c64b1be7eb693ef9c51b960f89b51a\n",
            "  Stored in directory: /root/.cache/pip/wheels/0c/c2/0e/3b9c6845c6a4e35beb90910cc70d9ac9ab5d47402bd62af0df\n",
            "Successfully built ffmpy\n",
            "Installing collected packages: pydub, ffmpy, websockets, uc-micro-py, semantic-version, python-multipart, orjson, multidict, h11, frozenlist, async-timeout, aiofiles, yarl, uvicorn, starlette, mdit-py-plugins, linkify-it-py, huggingface-hub, httpcore, aiosignal, httpx, fastapi, aiohttp, gradio-client, gradio\n",
            "Successfully installed aiofiles-23.1.0 aiohttp-3.8.4 aiosignal-1.3.1 async-timeout-4.0.2 fastapi-0.96.0 ffmpy-0.3.0 frozenlist-1.3.3 gradio-3.34.0 gradio-client-0.2.6 h11-0.14.0 httpcore-0.17.2 httpx-0.24.1 huggingface-hub-0.15.1 linkify-it-py-2.0.2 mdit-py-plugins-0.3.3 multidict-6.0.4 orjson-3.9.1 pydub-0.25.1 python-multipart-0.0.6 semantic-version-2.10.0 starlette-0.27.0 uc-micro-py-1.0.2 uvicorn-0.22.0 websockets-11.0.3 yarl-1.9.2\n"
          ]
        }
      ]
    },
    {
      "cell_type": "code",
      "source": [
        "import gradio as gr"
      ],
      "metadata": {
        "id": "Akght--1X9NN"
      },
      "execution_count": null,
      "outputs": []
    },
    {
      "cell_type": "code",
      "source": [
        "def predict_image(image):\n",
        "    # load the image\n",
        "\n",
        "    # pre-process the image for classification\n",
        "    image = cv2.resize(image, (28, 28))\n",
        "    image = image.astype(\"float\") / 255.0\n",
        "    image = img_to_array(image)\n",
        "    image = np.expand_dims(image, axis=0)\n",
        "\n",
        "\n",
        "    preds = model.predict(image)[0]\n",
        "    result = dict()\n",
        "    result[\"Buildings\"] = round(float(list(preds)[0]), 3)\n",
        "    result[\"Forest\"] = round(float(list(preds)[1]), 3)\n",
        "    result[\"Sea\"] = round(float(list(preds)[2]), 3)\n",
        "\n",
        "    print(result)\n",
        "\n",
        "    return result"
      ],
      "metadata": {
        "id": "w6DJak7HYAZ2"
      },
      "execution_count": null,
      "outputs": []
    },
    {
      "cell_type": "code",
      "source": [
        "im = gr.inputs.Image(shape=(32,32))\n",
        "label = gr.outputs.Label(num_top_classes=3)\n",
        "\n",
        "gr.Interface(fn=predict_image, inputs=im, outputs=label, capture_session=True, title=\"CNN Demo\").launch(share=True)"
      ],
      "metadata": {
        "colab": {
          "base_uri": "https://localhost:8080/",
          "height": 611
        },
        "id": "c5WuVYOvZSIt",
        "outputId": "ae6fc894-611c-422a-c045-e19fd12073b2"
      },
      "execution_count": null,
      "outputs": [
        {
          "output_type": "stream",
          "name": "stdout",
          "text": [
            "Colab notebook detected. To show errors in colab notebook, set debug=True in launch()\n",
            "Running on public URL: https://841ed6b77c116e2db6.gradio.live\n",
            "\n",
            "This share link expires in 72 hours. For free permanent hosting and GPU upgrades, run `gradio deploy` from Terminal to deploy to Spaces (https://huggingface.co/spaces)\n"
          ]
        },
        {
          "output_type": "display_data",
          "data": {
            "text/plain": [
              "<IPython.core.display.HTML object>"
            ],
            "text/html": [
              "<div><iframe src=\"https://841ed6b77c116e2db6.gradio.live\" width=\"100%\" height=\"500\" allow=\"autoplay; camera; microphone; clipboard-read; clipboard-write;\" frameborder=\"0\" allowfullscreen></iframe></div>"
            ]
          },
          "metadata": {}
        },
        {
          "output_type": "execute_result",
          "data": {
            "text/plain": []
          },
          "metadata": {},
          "execution_count": 81
        }
      ]
    },
    {
      "cell_type": "code",
      "source": [
        "import tensorflow as tf\n",
        "print(tf.__version__)"
      ],
      "metadata": {
        "colab": {
          "base_uri": "https://localhost:8080/"
        },
        "id": "judRY_FAYRzf",
        "outputId": "173ecf81-03a7-4a68-ae71-60917c50a63c"
      },
      "execution_count": null,
      "outputs": [
        {
          "output_type": "stream",
          "name": "stdout",
          "text": [
            "2.12.0\n"
          ]
        }
      ]
    }
  ]
}